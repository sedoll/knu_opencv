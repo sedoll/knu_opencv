{
 "cells": [
  {
   "attachments": {},
   "cell_type": "markdown",
   "metadata": {},
   "source": [
    "### 히스토그램 계산을 통한 관련 이미지 검색"
   ]
  },
  {
   "cell_type": "code",
   "execution_count": 21,
   "metadata": {},
   "outputs": [
    {
     "name": "stdout",
     "output_type": "stream",
     "text": [
      "['c:/data/temp/bottle1.jpg', 'c:/data/temp/bottle2.jpg', 'c:/data/temp/bottle3.jpg', 'c:/data/temp/bottle4.jpg', 'c:/data/temp/bottle5.jpg', 'c:/data/temp/bottle6.jpg', '', '', '', '']\n",
      "['c:/data/temp/mouse1.jpg', 'c:/data/temp/mouse2.jpg', 'c:/data/temp/mouse3.jpg', 'c:/data/temp/mouse4.jpg', 'c:/data/temp/mouse5.jpg', '', '', '', '', '']\n"
     ]
    }
   ],
   "source": [
    "import cv2\n",
    "import numpy as np\n",
    "import matplotlib.pyplot as plt\n",
    "\n",
    "# 이미지 주소 기본값 및 저장 리스트\n",
    "fath = 'c:/data/temp/'\n",
    "jpg = '.jpg'\n",
    "name = ['bottle', 'mouse']\n",
    "source = [['' for i in range(10)] for j in range(10)]\n",
    "\n",
    "result = [['' for i in range(10)] for j in range(10)]\n",
    "\n",
    "# 이미지 주소 추가\n",
    "for i in range(1, 7):\n",
    "    source[0][i-1] = (fath+name[0]+f'{i}'+jpg)\n",
    "for i in range(1, 6):\n",
    "    source[1][i-1] = (fath+name[1]+f'{i}'+jpg)\n",
    "\n",
    "# 이미지 주소 출력\n",
    "for i in range(2):\n",
    "    print(source[i])\n",
    "\n",
    "# 히스토그램 계산\n",
    "def calculate_histogram(image, i, j):\n",
    "    global result\n",
    "    # 이미지 불러오기\n",
    "    img = cv2.imread(image, cv2.IMREAD_GRAYSCALE)\n",
    "    img = cv2.resize(img, (100, 100))\n",
    "    \n",
    "    # 히스토그램 계산\n",
    "    hist = cv2.calcHist([img], [0], None, [64], [0, 256])\n",
    "    result[i][j] = hist\n",
    "    # Plot histogram\n",
    "    # plt.figure()\n",
    "    # plt.title('Histogram of ' + image)\n",
    "    # plt.xlabel('Pixel Value')\n",
    "    # plt.ylabel('Frequency')\n",
    "    # plt.plot(hist)\n",
    "    # plt.show()\n",
    "\n",
    "# Iterate over the image filenames\n",
    "for i in range(len(source)):\n",
    "    for j in range(len(source[i])):\n",
    "        if source[i][j] == '':\n",
    "            break\n",
    "        calculate_histogram(source[i][j], i, j)\n"
   ]
  },
  {
   "attachments": {},
   "cell_type": "markdown",
   "metadata": {},
   "source": [
    "### VLAD 코드 예시"
   ]
  },
  {
   "cell_type": "code",
   "execution_count": null,
   "metadata": {},
   "outputs": [],
   "source": [
    "import numpy as np\n",
    "\n",
    "def vlad_encoding(hist_results):\n",
    "    # Check if there are any histograms\n",
    "    if len(hist_results) == 0:\n",
    "        return None\n",
    "\n",
    "    # Get the dimensions of the histograms\n",
    "    hist_dim = len(hist_results[0])\n",
    "\n",
    "    # Initialize the VLAD vector\n",
    "    vlad_vector = np.zeros(hist_dim)\n",
    "\n",
    "    # Compute the mean vector\n",
    "    mean_vector = np.mean(hist_results, axis=0)\n",
    "\n",
    "    # Iterate over each histogram result\n",
    "    for hist in hist_results:\n",
    "        # Compute the residuals\n",
    "        residuals = hist - mean_vector\n",
    "\n",
    "        # Accumulate the residuals to the VLAD vector\n",
    "        vlad_vector += residuals\n",
    "\n",
    "    # L2 normalize the VLAD vector\n",
    "    vlad_vector /= np.linalg.norm(vlad_vector)\n",
    "\n",
    "    return vlad_vector\n",
    "\n",
    "# Example usage\n",
    "histogram_results = [\n",
    "    [0.2, 0.1, 0.3, 0.4],\n",
    "    [0.1, 0.4, 0.2, 0.3],\n",
    "    [0.3, 0.2, 0.4, 0.1]\n",
    "]\n",
    "\n",
    "vlad_vector = vlad_encoding(histogram_results)\n",
    "print(vlad_vector)"
   ]
  },
  {
   "attachments": {},
   "cell_type": "markdown",
   "metadata": {},
   "source": [
    "### 여러장의 hist 에서 VLAD 구하기 예시"
   ]
  },
  {
   "cell_type": "code",
   "execution_count": null,
   "metadata": {},
   "outputs": [],
   "source": [
    "import cv2\n",
    "import numpy as np\n",
    "\n",
    "def calculate_histogram(image):\n",
    "    # Load the image\n",
    "    img = cv2.imread(image, cv2.IMREAD_GRAYSCALE)\n",
    "    \n",
    "    # Calculate histogram\n",
    "    hist = cv2.calcHist([img], [0], None, [256], [0, 256])\n",
    "    \n",
    "    return hist.flatten()\n",
    "\n",
    "# List of image filenames\n",
    "image_filenames = ['image1.jpg', 'image2.jpg', 'image3.jpg', 'image4.jpg', 'image5.jpg',\n",
    "                   'image6.jpg', 'image7.jpg', 'image8.jpg', 'image9.jpg', 'image10.jpg']\n",
    "\n",
    "# List to store the histograms\n",
    "histograms = []\n",
    "\n",
    "# Iterate over the image filenames\n",
    "for image_filename in image_filenames:\n",
    "    histogram = calculate_histogram(image_filename)\n",
    "    histograms.append(histogram)\n",
    "\n",
    "# Convert the histograms list to a numpy array\n",
    "histograms = np.array(histograms)\n",
    "\n",
    "# Compute the mean vector (VLAD encoding)\n",
    "mean_vector = np.mean(histograms, axis=0)\n",
    "vlad_vector = mean_vector / np.linalg.norm(mean_vector)\n",
    "\n",
    "print(vlad_vector)"
   ]
  }
 ],
 "metadata": {
  "kernelspec": {
   "display_name": "Python 3",
   "language": "python",
   "name": "python3"
  },
  "language_info": {
   "codemirror_mode": {
    "name": "ipython",
    "version": 3
   },
   "file_extension": ".py",
   "mimetype": "text/x-python",
   "name": "python",
   "nbconvert_exporter": "python",
   "pygments_lexer": "ipython3",
   "version": "3.10.6"
  },
  "orig_nbformat": 4
 },
 "nbformat": 4,
 "nbformat_minor": 2
}
