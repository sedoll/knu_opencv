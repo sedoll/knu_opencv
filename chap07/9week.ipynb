{
 "cells": [
  {
   "attachments": {},
   "cell_type": "markdown",
   "metadata": {},
   "source": [
    "### 7.15 레이블링, 물체 구분"
   ]
  },
  {
   "cell_type": "code",
   "execution_count": 9,
   "metadata": {},
   "outputs": [
    {
     "name": "stdout",
     "output_type": "stream",
     "text": [
      "ret=  4\n",
      "0.0 3.0 (0, 0) (339, 338)\n",
      "[[0 0 0 0 0 0 0 0 0 0]\n",
      " [0 0 0 0 0 0 0 0 0 0]\n",
      " [0 0 0 0 0 0 0 0 0 0]\n",
      " [0 0 0 0 0 0 0 0 0 3]\n",
      " [0 0 0 3 3 3 3 3 3 3]\n",
      " [3 3 3 3 3 3 3 3 3 3]\n",
      " [3 3 3 3 3 3 3 3 3 3]\n",
      " [3 3 3 3 3 3 3 3 3 3]\n",
      " [3 3 3 3 3 3 3 3 3 3]\n",
      " [3 3 3 3 3 3 3 3 3 3]]\n"
     ]
    }
   ],
   "source": [
    "import cv2\n",
    "import numpy as np\n",
    "\n",
    "#1\n",
    "src = cv2.imread('c:/data/circles.jpg')\n",
    "gray = cv2.cvtColor(src, cv2.COLOR_BGR2GRAY)\n",
    "ret, res = cv2.threshold(gray, 128, 255, cv2.THRESH_BINARY_INV)\n",
    "\n",
    "#2\n",
    "# 픽셀이 0 이면 배경, 0이 아니면 물체\n",
    "ret, labels = cv2.connectedComponents(res)\n",
    "print('ret= ', ret)\n",
    "\n",
    "vMin, vMax, lMin, lMax = cv2.minMaxLoc(labels)\n",
    "print(vMin, vMax, lMin, lMax)\n",
    "\n",
    "# 0은 배경 3은 물체\n",
    "print(labels[335:345, 330:340])\n",
    "\n",
    "#3\n",
    "dst = np.zeros(src.shape, dtype=src.dtype)\n",
    "for i in range(1, ret):\n",
    "    r = np.random.randint(256)\n",
    "    g = np.random.randint(256)\n",
    "    b = np.random.randint(256)\n",
    "    dst[labels==i] = [b, g, r]\n",
    "\n",
    "cv2.imshow('res', res)\n",
    "cv2.imshow('dst', dst)\n",
    "cv2.waitKey()\n",
    "cv2.destroyAllWindows()"
   ]
  }
 ],
 "metadata": {
  "kernelspec": {
   "display_name": "Python 3",
   "language": "python",
   "name": "python3"
  },
  "language_info": {
   "codemirror_mode": {
    "name": "ipython",
    "version": 3
   },
   "file_extension": ".py",
   "mimetype": "text/x-python",
   "name": "python",
   "nbconvert_exporter": "python",
   "pygments_lexer": "ipython3",
   "version": "3.10.6"
  },
  "orig_nbformat": 4
 },
 "nbformat": 4,
 "nbformat_minor": 2
}
