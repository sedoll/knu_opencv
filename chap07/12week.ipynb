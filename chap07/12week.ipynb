{
 "cells": [
  {
   "cell_type": "code",
   "execution_count": 17,
   "metadata": {},
   "outputs": [
    {
     "name": "stdout",
     "output_type": "stream",
     "text": [
      "centers.shape= (9, 3)\n",
      "labels.shape= (230400, 1)\n",
      "ret= 19789464.58600705\n"
     ]
    }
   ],
   "source": [
    "# 0714.py\n",
    "import cv2\n",
    "import numpy as np\n",
    "#1\n",
    "src = cv2.imread('c:/data/hand.jpg')\n",
    "##src = cv2.imread('./data/flower.jpg')\n",
    "hsv = cv2.cvtColor(src, cv2.COLOR_BGR2HSV)\n",
    "\n",
    "# data = src.reshape((-1,3)).astype(np.float32)\n",
    "data = hsv.reshape((-1,3)).astype(np.float32)\n",
    "\n",
    "#2\n",
    "K = 9\n",
    "term_crit=(cv2.TERM_CRITERIA_EPS+cv2.TERM_CRITERIA_MAX_ITER, 10, 0.1)\n",
    "ret, labels, centers = cv2.kmeans(data, K, None, term_crit, 5,\n",
    "                                  cv2.KMEANS_RANDOM_CENTERS)\n",
    "print('centers.shape=', centers.shape)\n",
    "print('labels.shape=', labels.shape)\n",
    "print('ret=', ret)\n",
    "\n",
    "#3\n",
    "centers = np.uint8(centers)\n",
    "res   = centers[labels.flatten()]\n",
    "dst  = res.reshape(src.shape)\n",
    "\n",
    "##labels2 = np.uint8(labels.reshape(src.shape[:2]))\n",
    "##print('labels2.max()=', labels2.max())\n",
    "##dst   = np.zeros(src.shape, dtype=src.dtype)\n",
    "##for i in range(K): # 분할영역 표시\n",
    "##    r = np.random.randint(256)\n",
    "##    g = np.random.randint(256)\n",
    "##    b = np.random.randint(256)\n",
    "##    dst[labels2 == i] = [b, g, r]\n",
    "    \n",
    "cv2.imshow('dst',dst)\n",
    "cv2.waitKey()\n",
    "cv2.destroyAllWindows()"
   ]
  },
  {
   "attachments": {},
   "cell_type": "markdown",
   "metadata": {},
   "source": [
    "### p.97"
   ]
  },
  {
   "cell_type": "code",
   "execution_count": null,
   "metadata": {},
   "outputs": [],
   "source": [
    "# 0423.py\n",
    "import cv2\n",
    "import numpy as np\n",
    "\n",
    "X = np.array([[0, 0,  0,100,100,150, -100,-150],\n",
    "              [0,50,-50,  0, 30,100,  -20,-100]], dtype=np.float64)\n",
    "X = X.transpose() # X = X.T\n",
    "\n",
    "cov, mean = cv2.calcCovarMatrix(X, mean=None, \n",
    "                               flags = cv2.COVAR_NORMAL + cv2.COVAR_ROWS)\n",
    "print('mean=', mean)\n",
    "print('cov=', cov)\n",
    "\n",
    "ret, icov = cv2.invert(cov)\n",
    "print('icov=',icov)\n",
    "\n",
    "v1 = np.array([[0],[0]] , dtype=np.float64)\n",
    "v2 = np.array([[0],[50]], dtype=np.float64)\n",
    "\n",
    "dist = cv2.Mahalanobis(v1, v2, icov)\n",
    "print('dist = ', dist)\n",
    "                \n",
    "cv2.waitKey()    \n",
    "cv2.destroyAllWindows()"
   ]
  },
  {
   "cell_type": "code",
   "execution_count": 18,
   "metadata": {},
   "outputs": [
    {
     "name": "stdout",
     "output_type": "stream",
     "text": [
      "eVals= [[92202.13359547]\n",
      " [ 7835.36640453]]\n",
      "eVects= [[ 0.88390424  0.46766793]\n",
      " [-0.46766793  0.88390424]]\n"
     ]
    }
   ],
   "source": [
    "# 0424.py\n",
    "import cv2\n",
    "import numpy as np\n",
    " \n",
    "X = np.array([[0, 0,  0,100,100,150, -100,-150],\n",
    "                 [0,50,-50,  0, 30,100,  -20,-100]], dtype=np.float64)\n",
    "X = X.transpose() # X = X.T\n",
    "\n",
    "cov, mean = cv2.calcCovarMatrix(X, mean=None,\n",
    "                                    flags=cv2.COVAR_NORMAL+cv2.COVAR_ROWS)\n",
    "ret, icov = cv2.invert(cov)\n",
    "\n",
    "dst = np.full((512,512,3), (255, 255, 255), dtype= np.uint8)\n",
    "rows, cols, channel = dst.shape\n",
    "centerX = cols//2\n",
    "centerY = rows//2\n",
    "\n",
    "v2 = np.zeros((1,2), dtype=np.float64)\n",
    "FLIP_Y = lambda y: rows - 1 - y\n",
    "\n",
    "# draw Mahalanobis distance\n",
    "for y in range(rows):\n",
    "    for x in range(cols):\n",
    "        v2[0,0] = x - centerX\n",
    "        v2[0,1] = FLIP_Y(y) - centerY # y-축 뒤집기 \n",
    "        dist = cv2.Mahalanobis(mean, v2, icov)\n",
    "        if dist < 0.1:\n",
    "            dst[y, x] = [50, 50, 50]\n",
    "        elif dist < 0.3:\n",
    "            dst[y, x] = [100, 100, 100]\n",
    "        elif dist < 0.8:\n",
    "            dst[y, x] = [200, 200, 200]\n",
    "        else:\n",
    "            dst[y, x] = [250, 250, 250]\n",
    "            \n",
    "for k in range(X.shape[0]):\n",
    "    x, y = X[k,:]\n",
    "    cx = int(x+centerX)\n",
    "    cy = int(y+centerY)\n",
    "    cy = FLIP_Y(cy)\n",
    "    cv2.circle(dst,(cx,cy),radius=5,color=(0,0,255),thickness=-1)\n",
    "    \n",
    "# draw X, Y-axes\n",
    "cv2.line(dst, (0, 256), (cols-1, 256), (0, 0, 0))\n",
    "cv2.line(dst, (256,0), (256,rows), (0, 0, 0))\n",
    "\n",
    "# calculate eigen vectors\n",
    "ret, eVals, eVects = cv2.eigen(cov)\n",
    "print('eVals=',  eVals)\n",
    "print('eVects=', eVects)\n",
    "\n",
    "def ptsEigenVector(eVal, eVect):\n",
    "##    global mX, centerX, centerY\n",
    "    scale = np.sqrt(eVal) # eVal[0]\n",
    "    x1 = scale*eVect[0]\n",
    "    y1 = scale*eVect[1]\n",
    "    x2, y2 = -x1, -y1 # 대칭\n",
    "\n",
    "    x1 += mean[0,0] + centerX\n",
    "    y1 += mean[0,1] + centerY\n",
    "    x2 += mean[0,0] + centerX\n",
    "    y2 += mean[0,1] + centerY\n",
    "    y1 = FLIP_Y(y1)\n",
    "    y2 = FLIP_Y(y2)\n",
    "    return int(x1), int(y1), int(x2), int(y2)\n",
    "\n",
    " \n",
    "# draw eVects[0]\n",
    "x1, y1, x2, y2 = ptsEigenVector(eVals[0], eVects[0])\n",
    "cv2.line(dst, (x1, y1), (x2, y2), (255, 0, 0), 2)\n",
    "\n",
    "# draw eVects[1]\n",
    "x1, y1, x2, y2 = ptsEigenVector(eVals[1], eVects[1])\n",
    "cv2.line(dst, (x1, y1), (x2, y2), (255, 0, 0), 2)\n",
    "\n",
    "cv2.imshow('dst', dst)               \n",
    "cv2.waitKey()    \n",
    "cv2.destroyAllWindows()\n"
   ]
  },
  {
   "attachments": {},
   "cell_type": "markdown",
   "metadata": {},
   "source": [
    "### 유사 이미지 검색\n",
    "\n",
    "* dataset을 벡터로 만들기, histogram 추천\n",
    "* pca를 이용해 연산 횟수 줄여서 하던지\n",
    "* 페이스북 라이브러리 사용\n"
   ]
  },
  {
   "cell_type": "code",
   "execution_count": null,
   "metadata": {},
   "outputs": [],
   "source": []
  }
 ],
 "metadata": {
  "kernelspec": {
   "display_name": "Python 3",
   "language": "python",
   "name": "python3"
  },
  "language_info": {
   "codemirror_mode": {
    "name": "ipython",
    "version": 3
   },
   "file_extension": ".py",
   "mimetype": "text/x-python",
   "name": "python",
   "nbconvert_exporter": "python",
   "pygments_lexer": "ipython3",
   "version": "3.11.1"
  },
  "orig_nbformat": 4
 },
 "nbformat": 4,
 "nbformat_minor": 2
}
