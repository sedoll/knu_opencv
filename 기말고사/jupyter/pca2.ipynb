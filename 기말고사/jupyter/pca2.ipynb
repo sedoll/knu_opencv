{
 "cells": [
  {
   "attachments": {},
   "cell_type": "markdown",
   "metadata": {},
   "source": [
    "### 4.23 마하라노비스 통계적 거리"
   ]
  },
  {
   "cell_type": "code",
   "execution_count": 2,
   "metadata": {},
   "outputs": [
    {
     "name": "stdout",
     "output_type": "stream",
     "text": [
      "[[12.5   1.25]] [[73750.  34875. ]\n",
      " [34875.  26287.5]]\n",
      "0.5051854992128457\n"
     ]
    }
   ],
   "source": [
    "import cv2\n",
    "import numpy as np\n",
    "\n",
    "X = np.array([[0, 0, 0, 100, 100, 150, -100, -150],\n",
    "              [0, 50, -50, 0, 30, 100, -20, -100]], dtype=np.float64)\n",
    "\n",
    "X = X.T\n",
    "\n",
    "cov, mean = cv2.calcCovarMatrix(X, None, cv2.COVAR_NORMAL+cv2.COVAR_ROWS)\n",
    "print(mean, cov)\n",
    "\n",
    "ret, icov = cv2.invert(cov)\n",
    "\n",
    "v1 = np.array([[0], [0]], dtype=np.float64)\n",
    "v2 = np.array([[0], [50]], dtype=np.float64)\n",
    "\n",
    "dst = cv2.Mahalanobis(v1, v2, icov)\n",
    "print(dst)"
   ]
  },
  {
   "attachments": {},
   "cell_type": "markdown",
   "metadata": {},
   "source": [
    "### 4.25 PCA 투영, 역투영"
   ]
  },
  {
   "cell_type": "code",
   "execution_count": 15,
   "metadata": {},
   "outputs": [
    {
     "name": "stdout",
     "output_type": "stream",
     "text": [
      "[[   0.    0.]\n",
      " [   0.   50.]\n",
      " [   0.  -50.]\n",
      " [ 100.    0.]\n",
      " [ 100.   30.]\n",
      " [ 150.  100.]\n",
      " [-100.  -20.]\n",
      " [-150. -100.]]\n",
      "[[ -11.63338792    4.74096885]\n",
      " [  11.75000868   48.93618085]\n",
      " [ -35.01678451  -39.45424315]\n",
      " [  76.75703609  -42.02582434]\n",
      " [  90.78707404  -15.50869713]\n",
      " [ 167.71904127   22.98120308]\n",
      " [-109.37717055   33.82967723]\n",
      " [-190.9858171   -13.49926538]]\n",
      "[[   0.    0.]\n",
      " [   0.   50.]\n",
      " [   0.  -50.]\n",
      " [ 100.   -0.]\n",
      " [ 100.   30.]\n",
      " [ 150.  100.]\n",
      " [-100.  -20.]\n",
      " [-150. -100.]]\n",
      "True\n",
      "156.49395891409313\n"
     ]
    }
   ],
   "source": [
    "import cv2\n",
    "import numpy as np\n",
    "\n",
    "X = np.array([[0, 0, 0, 100, 100, 150, -100, -150],\n",
    "              [0, 50, -50, 0, 30, 100, -20, -100]], dtype=np.float64)\n",
    "X = X.T\n",
    "print(X)\n",
    "mean, eVects = cv2.PCACompute(X, None)\n",
    "\n",
    "Y = cv2.PCAProject(X, mean, eVects)\n",
    "print(Y)\n",
    "\n",
    "X2 = cv2.PCABackProject(Y, mean, eVects)\n",
    "print(np.round(X2))\n",
    "\n",
    "print(np.allclose(X, X2))\n",
    "\n",
    "K = 1\n",
    "vk = eVects.copy()\n",
    "vk[K:, :] = 0\n",
    "xk = cv2.PCABackProject(Y, mean, eVects)\n",
    "# xk = xk.T\n",
    "error = np.sqrt(np.sum((X-xk)**2))\n",
    "print(np.round(error))"
   ]
  }
 ],
 "metadata": {
  "kernelspec": {
   "display_name": "Python 3",
   "language": "python",
   "name": "python3"
  },
  "language_info": {
   "codemirror_mode": {
    "name": "ipython",
    "version": 3
   },
   "file_extension": ".py",
   "mimetype": "text/x-python",
   "name": "python",
   "nbconvert_exporter": "python",
   "pygments_lexer": "ipython3",
   "version": "3.8.10"
  },
  "orig_nbformat": 4
 },
 "nbformat": 4,
 "nbformat_minor": 2
}
