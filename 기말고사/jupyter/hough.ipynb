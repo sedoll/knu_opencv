{
 "cells": [
  {
   "attachments": {},
   "cell_type": "markdown",
   "metadata": {},
   "source": [
    "### 7.2 허프, 직선 검출"
   ]
  },
  {
   "cell_type": "code",
   "execution_count": 1,
   "metadata": {},
   "outputs": [],
   "source": [
    "import cv2\n",
    "import numpy as np\n",
    "\n",
    "src = cv2.imread('c:/data/rect.jpg')\n",
    "gray = cv2.cvtColor(src, cv2.COLOR_BGR2GRAY)\n",
    "edges = cv2.Canny(gray, 50, 100)\n",
    "lines = cv2.HoughLines(edges, 1, np.pi/180, 100)\n",
    "\n",
    "for line in lines:\n",
    "    r, t = line[0]\n",
    "    c = np.cos(t)\n",
    "    s = np.sin(t)\n",
    "    x0 = c * r\n",
    "    y0 = s * r\n",
    "    x1 = int(x0 + 1000 * (-s))\n",
    "    y1 = int(y0 + 1000 * c)\n",
    "    x2 = int(x0 - 1000 * (-s))\n",
    "    y2 = int(y0 - 1000 * c)\n",
    "    cv2.line(src, (x1, y1), (x2, y2), (0, 0, 255), 2)\n",
    "\n",
    "cv2.imshow('edges', edges)\n",
    "cv2.imshow('src', src)\n",
    "cv2.waitKey()\n",
    "cv2.destroyAllWindows()"
   ]
  },
  {
   "attachments": {},
   "cell_type": "markdown",
   "metadata": {},
   "source": [
    "### 7.3 선분 검출"
   ]
  },
  {
   "cell_type": "code",
   "execution_count": 5,
   "metadata": {},
   "outputs": [],
   "source": [
    "import cv2\n",
    "import numpy as np\n",
    "\n",
    "src = cv2.imread('c:/data/rect.jpg')\n",
    "gray = cv2.cvtColor(src, cv2.COLOR_BGR2GRAY)\n",
    "edges = cv2.Canny(gray, 50, 100)\n",
    "lines = cv2.HoughLinesP(edges, 1, np.pi/180, 100)\n",
    "\n",
    "for line in lines:\n",
    "    x1, y1, x2, y2 = line[0]\n",
    "    cv2.line(src, (x1, y1), (x2, y2), (0, 0, 255), 2)\n",
    "\n",
    "cv2.imshow('edges', edges)\n",
    "cv2.imshow('src', src)\n",
    "cv2.waitKey()\n",
    "cv2.destroyAllWindows()"
   ]
  },
  {
   "attachments": {},
   "cell_type": "markdown",
   "metadata": {},
   "source": [
    "### 7.4 원 검출"
   ]
  },
  {
   "cell_type": "code",
   "execution_count": 1,
   "metadata": {},
   "outputs": [
    {
     "name": "stdout",
     "output_type": "stream",
     "text": [
      "(1, 3, 3)\n",
      "(1, 6, 3)\n"
     ]
    }
   ],
   "source": [
    "import cv2\n",
    "import numpy as np\n",
    "\n",
    "src1 = cv2.imread('c:/data/circles.jpg')\n",
    "gray1 = cv2.cvtColor(src1, cv2.COLOR_BGR2GRAY)\n",
    "circles1 = cv2.HoughCircles(gray1, cv2.HOUGH_GRADIENT, 1, 50, param2=15)\n",
    "\n",
    "circles1 = np.int32(circles1)\n",
    "print(circles1.shape)\n",
    "for circle in circles1[0,:]:\n",
    "    cx, cy, r = circle\n",
    "    cv2.circle(src1, (cx, cy), r, (0, 0, 255), 2)\n",
    "cv2.imshow('src1', src1)\n",
    "\n",
    "src2 = cv2.imread('c:/data/circles2.jpg')\n",
    "gray2 = cv2.cvtColor(src2, cv2.COLOR_BGR2GRAY)\n",
    "circles2 = cv2.HoughCircles(gray2, cv2.HOUGH_GRADIENT, 1, 50, param2=15, minRadius=30, maxRadius=100)\n",
    "\n",
    "circles2 = np.int32(circles2)\n",
    "print(circles2.shape)\n",
    "for circle in circles2[0, :]:\n",
    "    cx, cy, r = circle\n",
    "    cv2.circle(src2, (cx, cy), r, (0, 0, 255), 2)\n",
    "cv2.imshow('src2', src2)\n",
    "cv2.waitKey()\n",
    "cv2.destroyAllWindows()"
   ]
  },
  {
   "attachments": {},
   "cell_type": "markdown",
   "metadata": {},
   "source": [
    "### 7.6 윤곽선 검출"
   ]
  },
  {
   "cell_type": "code",
   "execution_count": 13,
   "metadata": {},
   "outputs": [
    {
     "name": "stdout",
     "output_type": "stream",
     "text": [
      "<class 'tuple'>\n",
      "<class 'numpy.ndarray'>\n",
      "1\n",
      "(4, 1, 2)\n",
      "[[[ 50 100]]\n",
      "\n",
      " [[ 50 400]]\n",
      "\n",
      " [[450 400]]\n",
      "\n",
      " [[450 100]]]\n"
     ]
    }
   ],
   "source": [
    "import cv2\n",
    "import numpy as np\n",
    "\n",
    "src = np.zeros(shape=(512, 512, 3), dtype=np.uint8)\n",
    "cv2.rectangle(src, (50, 100), (450, 400), (255, 255, 255), -1)\n",
    "cv2.rectangle(src, (100, 150), (400, 350), (0, 0, 0), -1)\n",
    "cv2.rectangle(src, (200, 200), (300, 300), (255, 255, 255), -1)\n",
    "gray = cv2.cvtColor(src, cv2.COLOR_BGR2GRAY)\n",
    "\n",
    "mode = cv2.RETR_EXTERNAL\n",
    "method = cv2.CHAIN_APPROX_SIMPLE # 꼭지점만 검출\n",
    "# method = cv2.CHAIN_APPROX_SIMPLE # 모든 부분 검출\n",
    "\n",
    "# 윤곽선 검출\n",
    "contours, hierarchy = cv2.findContours(gray, mode, method)\n",
    "print(type(contours))\n",
    "print(type(contours[0]))\n",
    "print(len(contours))\n",
    "print(contours[0].shape)\n",
    "print(contours[0])\n",
    "\n",
    "# 윤곽선 그리기\n",
    "cv2.drawContours(src, contours, -1, (255, 0, 0), 3)\n",
    "\n",
    "# 윤곽선 좌표 그리기\n",
    "for pt in contours[0][:]:\n",
    "    cv2.circle(src, (pt[0][0], pt[0][1]), 5, (0, 0 ,255), -1)\n",
    "\n",
    "cv2.imshow('src', src)\n",
    "cv2.waitKey()\n",
    "cv2.destroyAllWindows()"
   ]
  },
  {
   "attachments": {},
   "cell_type": "markdown",
   "metadata": {},
   "source": [
    "### 7.7 모든 윤곽선 검출"
   ]
  },
  {
   "cell_type": "code",
   "execution_count": 2,
   "metadata": {},
   "outputs": [
    {
     "name": "stdout",
     "output_type": "stream",
     "text": [
      "<class 'tuple'>\n",
      "<class 'numpy.ndarray'>\n",
      "3\n",
      "(4, 1, 2)\n",
      "[[[200 200]]\n",
      "\n",
      " [[200 300]]\n",
      "\n",
      " [[300 300]]\n",
      "\n",
      " [[300 200]]]\n"
     ]
    }
   ],
   "source": [
    "import cv2\n",
    "import numpy as np\n",
    "\n",
    "# 8.1 예제 사진으로 실행 할 경우\n",
    "# src = cv2.imread('c:/data/CornerTest.jpg')\n",
    "# gray = cv2.cvtColor(src, cv2.COLOR_BGR2GRAY)\n",
    "\n",
    "src = np.zeros(shape=(512, 512, 3), dtype=np.uint8)\n",
    "cv2.rectangle(src, (50, 100), (450, 400), (255, 255, 255), -1)\n",
    "cv2.rectangle(src, (100, 150), (400, 350), (0, 0, 0), -1)\n",
    "cv2.rectangle(src, (200, 200), (300, 300), (255, 255, 255), -1)\n",
    "gray = cv2.cvtColor(src, cv2.COLOR_BGR2GRAY)\n",
    "\n",
    "mode = cv2.RETR_LIST\n",
    "method = cv2.CHAIN_APPROX_SIMPLE # 꼭지점만 검출\n",
    "# method = cv2.CHAIN_APPROX_NONE # 모든 부분 검출\n",
    "\n",
    "# 윤곽선 검출\n",
    "contours, hierarchy = cv2.findContours(gray, mode, method)\n",
    "print(type(contours))\n",
    "print(type(contours[0]))\n",
    "print(len(contours))\n",
    "print(contours[0].shape)\n",
    "print(contours[0])\n",
    "\n",
    "# 윤곽선 그리기\n",
    "for cnt in contours:\n",
    "    cv2.drawContours(src, [cnt], -1, (255, 0, 0), 3)\n",
    "\n",
    "    # 꼭지점 좌표 그리기\n",
    "    for pt in cnt:\n",
    "        cv2.circle(src, (pt[0][0], pt[0][1]), 5, (0, 0 ,255), -1)\n",
    "\n",
    "cv2.imshow('src', src)\n",
    "cv2.waitKey()\n",
    "cv2.destroyAllWindows()"
   ]
  },
  {
   "attachments": {},
   "cell_type": "markdown",
   "metadata": {},
   "source": [
    "### 7.11 영상 분할, 물체 찾기"
   ]
  },
  {
   "cell_type": "code",
   "execution_count": 20,
   "metadata": {},
   "outputs": [
    {
     "name": "stdout",
     "output_type": "stream",
     "text": [
      "0.0 76.0 (0, 0) (220, 220)\n",
      "6\n"
     ]
    }
   ],
   "source": [
    "import cv2\n",
    "import numpy as np\n",
    "\n",
    "src = cv2.imread('c:/data/circles2.jpg')\n",
    "gray = cv2.cvtColor(src, cv2.COLOR_BGR2GRAY)\n",
    "ret, bImage = cv2.threshold(gray, 0, 255, cv2.THRESH_BINARY_INV+cv2.THRESH_OTSU)\n",
    "\n",
    "dist = cv2.distanceTransform(bImage, cv2.DIST_L1, 3)\n",
    "dist8 = cv2.normalize(dist, None, 0, 255, cv2.NORM_MINMAX, dtype=cv2.CV_8U)\n",
    "\n",
    "cv2.imshow('bImage', bImage)\n",
    "cv2.imshow('dist8', dist8)\n",
    "\n",
    "minV, maxV, minL, maxL = cv2.minMaxLoc(dist)\n",
    "print(minV, maxV, minL, maxL)\n",
    "mask = (dist>maxV*0.5).astype(np.uint8)*255\n",
    "cv2.imshow('mask', mask)\n",
    "\n",
    "mode = cv2.RETR_EXTERNAL\n",
    "method = cv2.CHAIN_APPROX_SIMPLE\n",
    "contours, hierarchy = cv2.findContours(mask, mode, method)\n",
    "print(len(contours)) # 물체 검출\n",
    "\n",
    "markers = np.zeros(shape=src.shape[:2], dtype=np.int32)\n",
    "for i, cnt in enumerate(contours):\n",
    "    cv2.drawContours(markers, [cnt], 0, i+1, -1)\n",
    "\n",
    "dst = src.copy()\n",
    "cv2.watershed(src, markers)\n",
    "\n",
    "dst[markers==-1] == [0, 0, 255]\n",
    "for i in range(len(contours)):\n",
    "    r = np.random.randint(256)\n",
    "    g = np.random.randint(256)\n",
    "    b = np.random.randint(256)\n",
    "    dst[markers==i+1] = [b, g, r]\n",
    "dst = cv2.addWeighted(src, 0.4, dst, 0.6, 0)\n",
    "\n",
    "cv2.imshow('dst', dst)\n",
    "cv2.waitKey()\n",
    "cv2.destroyAllWindows()\n"
   ]
  },
  {
   "attachments": {},
   "cell_type": "markdown",
   "metadata": {},
   "source": [
    "### kmeans 클러스터링"
   ]
  },
  {
   "cell_type": "code",
   "execution_count": 4,
   "metadata": {},
   "outputs": [
    {
     "name": "stdout",
     "output_type": "stream",
     "text": [
      "(2, 3)\n",
      "(230400, 1)\n",
      "62989280.689894974\n",
      "1\n"
     ]
    }
   ],
   "source": [
    "import cv2\n",
    "import numpy as np\n",
    "\n",
    "src = cv2.imread('c:/data/hand.jpg')\n",
    "hsv = cv2.cvtColor(src, cv2.COLOR_BGR2HSV)\n",
    "\n",
    "data = src.reshape((-1, 3)).astype(np.float32)\n",
    "\n",
    "K = 2\n",
    "term_crit = (cv2.TERM_CRITERIA_MAX_ITER+cv2.TERM_CRITERIA_EPS, 10, 1.0)\n",
    "ret, labels, centers = cv2.kmeans(data, K, None, term_crit, 5, cv2.KMEANS_RANDOM_CENTERS)\n",
    "print(centers.shape)\n",
    "print(labels.shape)\n",
    "print(ret)\n",
    "\n",
    "centers = np.uint8(centers)\n",
    "res = centers[labels.flatten()]\n",
    "dst = res.reshape(src.shape)\n",
    "cv2.imshow('dst', dst)\n",
    "\n",
    "#hsv를 이용하는 경우\n",
    "labels2 = np.uint8(labels.reshape(src.shape[:2]))\n",
    "print(labels2.max())\n",
    "dst2 = np.zeros(src.shape, dtype=src.dtype)\n",
    "for i in range(K):\n",
    "    r = np.random.randint(256)\n",
    "    g = np.random.randint(256)\n",
    "    b = np.random.randint(256)\n",
    "    dst2[labels2==i] = [b, g, r]\n",
    "cv2.imshow('dst2', dst2)\n",
    "\n",
    "cv2.waitKey()\n",
    "cv2.destroyAllWindows()"
   ]
  },
  {
   "attachments": {},
   "cell_type": "markdown",
   "metadata": {},
   "source": [
    "### 7.15 레이블링을 이용한 물체 찾기"
   ]
  },
  {
   "cell_type": "code",
   "execution_count": 9,
   "metadata": {},
   "outputs": [
    {
     "name": "stdout",
     "output_type": "stream",
     "text": [
      "4\n"
     ]
    }
   ],
   "source": [
    "import cv2\n",
    "import numpy as np\n",
    "\n",
    "src = cv2.imread('c:/data/circles.jpg')\n",
    "gray = cv2.cvtColor(src, cv2.COLOR_BGR2GRAY)\n",
    "# circle을 물체로 인식하고 싶은 경우\n",
    "ret, res = cv2.threshold(gray, 128, 255, cv2.THRESH_BINARY_INV)\n",
    "\n",
    "# 배경을 물체로 인식하고 싶은 경우\n",
    "# ret, res = cv2.threshold(gray, 128, 255, cv2.THRESH_BINARY)\n",
    "\n",
    "ret, labels = cv2.connectedComponents(res)\n",
    "print(ret) # 물체의 개수, 배경 포함\n",
    "\n",
    "dst = np.zeros(src.shape, dtype=src.dtype)\n",
    "for i in range(1, ret):\n",
    "    r = np.random.randint(256)\n",
    "    g = np.random.randint(256)\n",
    "    b = np.random.randint(256)\n",
    "    dst[labels == i] = [b, g, r]\n",
    "\n",
    "cv2.imshow('dst', dst)\n",
    "cv2.waitKey()\n",
    "cv2.destroyAllWindows()"
   ]
  },
  {
   "attachments": {},
   "cell_type": "markdown",
   "metadata": {},
   "source": [
    "### 7.16 레이블링을 이용한 물체 인식, 객체 정보도 반환"
   ]
  },
  {
   "cell_type": "code",
   "execution_count": 3,
   "metadata": {},
   "outputs": [
    {
     "name": "stdout",
     "output_type": "stream",
     "text": [
      "4\n",
      "[[     0      0    512    512 222719]\n",
      " [   308     86    125    125  12281]\n",
      " [   153    145    152    152  18152]\n",
      " [   292    338    107    107   8992]]\n",
      "[[247.77339607 258.80937863]\n",
      " [370.         148.        ]\n",
      " [228.5        220.50534376]\n",
      " [345.00077847 390.99477313]]\n"
     ]
    }
   ],
   "source": [
    "import cv2\n",
    "import numpy as np\n",
    "\n",
    "src = cv2.imread('c:/data/circles.jpg')\n",
    "gray = cv2.cvtColor(src, cv2.COLOR_BGR2GRAY)\n",
    "ret, res = cv2.threshold(gray, 128, 255, cv2.THRESH_BINARY_INV)\n",
    "\n",
    "ret, labels, stats, centroids = cv2.connectedComponentsWithStats(res)\n",
    "print(ret) # 객체의 수, 배경 포함\n",
    "print(stats) # 시작좌표 (x, y), width, height, 픽셀 개수\n",
    "print(centroids) # 각 객체의 중심점 좌표 (x, y)\n",
    "\n",
    "dst = np.zeros(src.shape, dtype=src.dtype)\n",
    "for i in range(1, int(ret)):\n",
    "    r = np.random.randint(256)\n",
    "    g = np.random.randint(256)\n",
    "    b = np.random.randint(256)\n",
    "    dst[labels==i] = [b, g, r]\n",
    "\n",
    "for i in range(1, int(ret)):\n",
    "    x, y, width, height, area = stats[i]\n",
    "    cv2.rectangle(dst, (x, y), (x+width, y+height), (0, 0, 255), 2)\n",
    "    \n",
    "    cx, cy = centroids[i]\n",
    "    cv2.circle(dst, (int(cx), int(cy)), 5, (255, 0, 0), -1)\n",
    "\n",
    "cv2.imshow('src', src)\n",
    "cv2.imshow('dst', dst)\n",
    "cv2.waitKey()\n",
    "cv2.destroyAllWindows()"
   ]
  }
 ],
 "metadata": {
  "kernelspec": {
   "display_name": "Python 3",
   "language": "python",
   "name": "python3"
  },
  "language_info": {
   "codemirror_mode": {
    "name": "ipython",
    "version": 3
   },
   "file_extension": ".py",
   "mimetype": "text/x-python",
   "name": "python",
   "nbconvert_exporter": "python",
   "pygments_lexer": "ipython3",
   "version": "3.8.10"
  },
  "orig_nbformat": 4
 },
 "nbformat": 4,
 "nbformat_minor": 2
}
