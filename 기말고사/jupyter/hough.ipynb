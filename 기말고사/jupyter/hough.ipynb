{
 "cells": [
  {
   "attachments": {},
   "cell_type": "markdown",
   "metadata": {},
   "source": [
    "### 7.2 허프, 직선 검출"
   ]
  },
  {
   "cell_type": "code",
   "execution_count": 1,
   "metadata": {},
   "outputs": [],
   "source": [
    "import cv2\n",
    "import numpy as np\n",
    "\n",
    "src = cv2.imread('c:/data/rect.jpg')\n",
    "gray = cv2.cvtColor(src, cv2.COLOR_BGR2GRAY)\n",
    "edges = cv2.Canny(gray, 50, 100)\n",
    "lines = cv2.HoughLines(edges, 1, np.pi/180, 100)\n",
    "\n",
    "for line in lines:\n",
    "    r, t = line[0]\n",
    "    c = np.cos(t)\n",
    "    s = np.sin(t)\n",
    "    x0 = c * r\n",
    "    y0 = s * r\n",
    "    x1 = int(x0 + 1000 * (-s))\n",
    "    y1 = int(y0 + 1000 * c)\n",
    "    x2 = int(x0 - 1000 * (-s))\n",
    "    y2 = int(y0 - 1000 * c)\n",
    "    cv2.line(src, (x1, y1), (x2, y2), (0, 0, 255), 2)\n",
    "\n",
    "cv2.imshow('edges', edges)\n",
    "cv2.imshow('src', src)\n",
    "cv2.waitKey()\n",
    "cv2.destroyAllWindows()"
   ]
  },
  {
   "attachments": {},
   "cell_type": "markdown",
   "metadata": {},
   "source": [
    "### 7.3 선분 검출"
   ]
  },
  {
   "cell_type": "code",
   "execution_count": 5,
   "metadata": {},
   "outputs": [],
   "source": [
    "import cv2\n",
    "import numpy as np\n",
    "\n",
    "src = cv2.imread('c:/data/rect.jpg')\n",
    "gray = cv2.cvtColor(src, cv2.COLOR_BGR2GRAY)\n",
    "edges = cv2.Canny(gray, 50, 100)\n",
    "lines = cv2.HoughLinesP(edges, 1, np.pi/180, 100)\n",
    "\n",
    "for line in lines:\n",
    "    x1, y1, x2, y2 = line[0]\n",
    "    cv2.line(src, (x1, y1), (x2, y2), (0, 0, 255), 2)\n",
    "\n",
    "cv2.imshow('edges', edges)\n",
    "cv2.imshow('src', src)\n",
    "cv2.waitKey()\n",
    "cv2.destroyAllWindows()"
   ]
  },
  {
   "attachments": {},
   "cell_type": "markdown",
   "metadata": {},
   "source": [
    "### 7.4 원 검출"
   ]
  },
  {
   "cell_type": "code",
   "execution_count": 6,
   "metadata": {},
   "outputs": [
    {
     "name": "stdout",
     "output_type": "stream",
     "text": [
      "(1, 3, 3)\n",
      "(1, 6, 3)\n"
     ]
    }
   ],
   "source": [
    "import cv2\n",
    "import numpy as np\n",
    "\n",
    "src1 = cv2.imread('c:/data/circles.jpg')\n",
    "gray1 = cv2.cvtColor(src1, cv2.COLOR_BGR2GRAY)\n",
    "circles1 = cv2.HoughCircles(gray1, cv2.HOUGH_GRADIENT, 1, 50, param2=15)\n",
    "\n",
    "circles1 = np.int32(circles1)\n",
    "print(circles1.shape)\n",
    "for circle in circles1[0,:]:\n",
    "    cx, cy, r = circle\n",
    "    cv2.circle(src1, (cx, cy), r, (0, 0, 255), 2)\n",
    "cv2.imshow('src1', src1)\n",
    "\n",
    "src2 = cv2.imread('c:/data/circles2.jpg')\n",
    "gray2 = cv2.cvtColor(src2, cv2.COLOR_BGR2GRAY)\n",
    "circles2 = cv2.HoughCircles(gray2, cv2.HOUGH_GRADIENT, 1, 50, param2=15, minRadius=30, maxRadius=100)\n",
    "\n",
    "circles2 = np.int32(circles2)\n",
    "print(circles2.shape)\n",
    "for circle in circles2[0, :]:\n",
    "    cx, cy, r = circle\n",
    "    cv2.circle(src2, (cx, cy), r, (0, 0, 255), 2)\n",
    "cv2.imshow('src2', src2)\n",
    "cv2.waitKey()\n",
    "cv2.destroyAllWindows()"
   ]
  },
  {
   "attachments": {},
   "cell_type": "markdown",
   "metadata": {},
   "source": [
    "### 7.6 윤곽선 검출"
   ]
  },
  {
   "cell_type": "code",
   "execution_count": 13,
   "metadata": {},
   "outputs": [
    {
     "name": "stdout",
     "output_type": "stream",
     "text": [
      "<class 'tuple'>\n",
      "<class 'numpy.ndarray'>\n",
      "1\n",
      "(4, 1, 2)\n",
      "[[[ 50 100]]\n",
      "\n",
      " [[ 50 400]]\n",
      "\n",
      " [[450 400]]\n",
      "\n",
      " [[450 100]]]\n"
     ]
    }
   ],
   "source": [
    "import cv2\n",
    "import numpy as np\n",
    "\n",
    "src = np.zeros(shape=(512, 512, 3), dtype=np.uint8)\n",
    "cv2.rectangle(src, (50, 100), (450, 400), (255, 255, 255), -1)\n",
    "cv2.rectangle(src, (100, 150), (400, 350), (0, 0, 0), -1)\n",
    "cv2.rectangle(src, (200, 200), (300, 300), (255, 255, 255), -1)\n",
    "gray = cv2.cvtColor(src, cv2.COLOR_BGR2GRAY)\n",
    "\n",
    "mode = cv2.RETR_EXTERNAL\n",
    "method = cv2.CHAIN_APPROX_SIMPLE # 꼭지점만 검출\n",
    "# method = cv2.CHAIN_APPROX_SIMPLE # 모든 부분 검출\n",
    "\n",
    "# 윤곽선 검출\n",
    "contours, hierarchy = cv2.findContours(gray, mode, method)\n",
    "print(type(contours))\n",
    "print(type(contours[0]))\n",
    "print(len(contours))\n",
    "print(contours[0].shape)\n",
    "print(contours[0])\n",
    "\n",
    "# 윤곽선 그리기\n",
    "cv2.drawContours(src, contours, -1, (255, 0, 0), 3)\n",
    "\n",
    "# 윤곽선 좌표 그리기\n",
    "for pt in contours[0][:]:\n",
    "    cv2.circle(src, (pt[0][0], pt[0][1]), 5, (0, 0 ,255), -1)\n",
    "\n",
    "cv2.imshow('src', src)\n",
    "cv2.waitKey()\n",
    "cv2.destroyAllWindows()"
   ]
  },
  {
   "attachments": {},
   "cell_type": "markdown",
   "metadata": {},
   "source": [
    "### 7.7 모든 윤곽선 검출"
   ]
  },
  {
   "cell_type": "code",
   "execution_count": 16,
   "metadata": {},
   "outputs": [
    {
     "name": "stdout",
     "output_type": "stream",
     "text": [
      "<class 'tuple'>\n",
      "<class 'numpy.ndarray'>\n",
      "3\n",
      "(4, 1, 2)\n",
      "[[[200 200]]\n",
      "\n",
      " [[200 300]]\n",
      "\n",
      " [[300 300]]\n",
      "\n",
      " [[300 200]]]\n"
     ]
    }
   ],
   "source": [
    "import cv2\n",
    "import numpy as np\n",
    "\n",
    "src = np.zeros(shape=(512, 512, 3), dtype=np.uint8)\n",
    "cv2.rectangle(src, (50, 100), (450, 400), (255, 255, 255), -1)\n",
    "cv2.rectangle(src, (100, 150), (400, 350), (0, 0, 0), -1)\n",
    "cv2.rectangle(src, (200, 200), (300, 300), (255, 255, 255), -1)\n",
    "gray = cv2.cvtColor(src, cv2.COLOR_BGR2GRAY)\n",
    "\n",
    "mode = cv2.RETR_LIST\n",
    "method = cv2.CHAIN_APPROX_SIMPLE # 꼭지점만 검출\n",
    "# method = cv2.CHAIN_APPROX_SIMPLE # 모든 부분 검출\n",
    "\n",
    "# 윤곽선 검출\n",
    "contours, hierarchy = cv2.findContours(gray, mode, method)\n",
    "print(type(contours))\n",
    "print(type(contours[0]))\n",
    "print(len(contours))\n",
    "print(contours[0].shape)\n",
    "print(contours[0])\n",
    "\n",
    "# 윤곽선 그리기\n",
    "for cnt in contours:\n",
    "    cv2.drawContours(src, [cnt], -1, (255, 0, 0), 3)\n",
    "\n",
    "    # 꼭지점 좌표 그리기\n",
    "    for pt in cnt:\n",
    "        cv2.circle(src, (pt[0][0], pt[0][1]), 5, (0, 0 ,255), -1)\n",
    "\n",
    "cv2.imshow('src', src)\n",
    "cv2.waitKey()\n",
    "cv2.destroyAllWindows()"
   ]
  },
  {
   "attachments": {},
   "cell_type": "markdown",
   "metadata": {},
   "source": [
    "### 7.11 영상 분할"
   ]
  },
  {
   "cell_type": "code",
   "execution_count": 17,
   "metadata": {},
   "outputs": [],
   "source": [
    "import cv2\n",
    "import numpy as np\n",
    "\n",
    "src = cv2.imread('c:/data/circles2.jpg')\n",
    "gray = cv2.cvtColor(src, cv2.COLOR_BGR2GRAY)\n",
    "ret, bImage = cv2.threshold(gray, 0, 255, cv2.THRESH_BINARY_INV+cv2.THRESH_OTSU)\n",
    "\n",
    "dist = cv2.distanceTransform(bImage, cv2.DIST_L1, 3)\n",
    "dist8 = cv2.normalize(dist, None, 0, 255, cv2.NORM_MINMAX, dtype=cv2.CV_8U)\n",
    "\n",
    "cv2.imshow('bImage', bImage)\n",
    "cv2.imshow('dist8', dist8)\n",
    "\n",
    "minV, maxV, minL, maxL = cv2.minMaxLoc(dist)\n",
    "print(minV, maxV, minL, maxL)\n",
    "mask = (dist>maxV*0.5).astype(np.uint8)*255\n",
    "cv2.imshow('mask', mask)\n",
    "\n",
    "mode = cv2.RETR_EXTERNAL\n",
    "method = cv2.CHAIN_APPROX_SIMPLE\n",
    "contours, hierarchy = cv2.findContours(mask, mode, method)\n",
    "print(len(contours))\n",
    "\n",
    "markers = np.zeros(shape=src.shape[:2], dtype=np.int32)\n",
    "for i, cnt in enumerate(contours):\n",
    "    cv2.drawContours(markers, [cnt], 0, i+1, -1)\n",
    "\n",
    "dst = src.copy()\n",
    "cv2.watershed(src, markers)\n",
    "\n",
    "dst[markers==-1] == [0, 0, 255]\n",
    "for i in range(len(contours)):\n",
    "    r = np.random.randint(256)\n",
    "    g = np.random.randint(256)\n",
    "    b = np.random.randint(256)\n",
    "    dst[markers==i+1] = [b, g, r]\n",
    "dst = cv2.addWeighted(src, 0.4, dst, 0.6, 0)\n",
    "\n",
    "cv2.imshow('dst', dst)\n",
    "cv2.waitKey()\n",
    "cv2.destroyAllWindows()\n"
   ]
  }
 ],
 "metadata": {
  "kernelspec": {
   "display_name": "Python 3",
   "language": "python",
   "name": "python3"
  },
  "language_info": {
   "codemirror_mode": {
    "name": "ipython",
    "version": 3
   },
   "file_extension": ".py",
   "mimetype": "text/x-python",
   "name": "python",
   "nbconvert_exporter": "python",
   "pygments_lexer": "ipython3",
   "version": "3.8.10"
  },
  "orig_nbformat": 4
 },
 "nbformat": 4,
 "nbformat_minor": 2
}
