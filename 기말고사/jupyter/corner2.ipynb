{
 "cells": [
  {
   "attachments": {},
   "cell_type": "markdown",
   "metadata": {},
   "source": [
    "### 8.1 코너점 검출"
   ]
  },
  {
   "cell_type": "code",
   "execution_count": 1,
   "metadata": {},
   "outputs": [
    {
     "name": "stdout",
     "output_type": "stream",
     "text": [
      "(8, 2)\n"
     ]
    }
   ],
   "source": [
    "import cv2\n",
    "import numpy as np\n",
    "\n",
    "def findLocalMaxima(src):\n",
    "    kernel = cv2.getStructuringElement(cv2.MORPH_RECT, (11, 11))\n",
    "    \n",
    "    dilate = cv2.dilate(src, kernel)\n",
    "    localMax = (src == dilate)\n",
    "    \n",
    "    erode = cv2.erode(src, kernel)\n",
    "    localMax2 = src > erode\n",
    "    localMax &= localMax2\n",
    "    points = np.argwhere(localMax == True)\n",
    "    points[:, [0, 1]] = points[:, [1, 0]]\n",
    "    return points\n",
    "\n",
    "src = cv2.imread('c:/data/CornerTest.jpg')\n",
    "gray = cv2.cvtColor(src, cv2.COLOR_BGR2GRAY)\n",
    "res = cv2.preCornerDetect(gray, ksize = 3)\n",
    "ret, res2 = cv2.threshold(np.abs(res), 0.1, 0, cv2.THRESH_TOZERO)\n",
    "corners = findLocalMaxima(res2)\n",
    "print(corners.shape)\n",
    "\n",
    "dst = src.copy()\n",
    "for x, y in corners:\n",
    "    cv2.circle(dst, (x, y), 5, (0, 0, 255), 2)\n",
    "\n",
    "cv2.imshow('dst', dst)\n",
    "cv2.waitKey()\n",
    "cv2.destroyAllWindows()"
   ]
  },
  {
   "attachments": {},
   "cell_type": "markdown",
   "metadata": {},
   "source": [
    "### 8.2 고유값, 고유벡터를 이용한 검출"
   ]
  },
  {
   "cell_type": "code",
   "execution_count": 3,
   "metadata": {},
   "outputs": [
    {
     "name": "stdout",
     "output_type": "stream",
     "text": [
      "(512, 512, 6)\n",
      "8\n",
      "[[109 127]\n",
      " [264 127]\n",
      " [267 167]\n",
      " [386 170]\n",
      " [109 268]\n",
      " [167 271]\n",
      " [170 374]\n",
      " [386 374]]\n"
     ]
    }
   ],
   "source": [
    "import cv2\n",
    "import numpy as np\n",
    "\n",
    "src = cv2.imread('c:/data/CornerTest.jpg')\n",
    "gray = cv2.cvtColor(src, cv2.COLOR_BGR2GRAY)\n",
    "res = cv2.cornerEigenValsAndVecs(gray, 5, 3)\n",
    "print(res.shape)\n",
    "eigen = cv2.split(res)\n",
    "\n",
    "T = 0.2\n",
    "ret, edge = cv2.threshold(eigen[0], T, 255, cv2.THRESH_BINARY)\n",
    "edge = edge.astype(np.uint8)\n",
    "\n",
    "corners = np.argwhere(eigen[1] > T)\n",
    "corners[:, [0, 1]] = corners[:, [1, 0]]\n",
    "print(len(corners))\n",
    "print(corners) # corner 좌표\n",
    "\n",
    "dst = src.copy()\n",
    "for x, y in corners:\n",
    "    cv2.circle(dst, (x, y), 5, (0, 0, 255), 2)\n",
    "\n",
    "cv2.imshow('edge', edge)\n",
    "cv2.imshow('dst', dst)\n",
    "cv2.waitKey()\n",
    "cv2.destroyAllWindows()"
   ]
  },
  {
   "attachments": {},
   "cell_type": "markdown",
   "metadata": {},
   "source": [
    "### 8.3 최소 고유값을 통한 검출"
   ]
  },
  {
   "cell_type": "code",
   "execution_count": 8,
   "metadata": {},
   "outputs": [
    {
     "name": "stdout",
     "output_type": "stream",
     "text": [
      "(512, 512)\n",
      "8\n",
      "[[109 127]\n",
      " [264 127]\n",
      " [267 167]\n",
      " [386 170]\n",
      " [109 268]\n",
      " [167 271]\n",
      " [170 374]\n",
      " [386 374]]\n"
     ]
    }
   ],
   "source": [
    "import cv2\n",
    "import numpy as np\n",
    "\n",
    "src = cv2.imread('c:/data/CornerTest.jpg')\n",
    "gray = cv2.cvtColor(src, cv2.COLOR_BGR2GRAY)\n",
    "eigen = cv2.cornerMinEigenVal(gray, 5)\n",
    "print(eigen.shape)\n",
    "\n",
    "T = 0.2\n",
    "corners = np.argwhere(eigen>T)\n",
    "corners[:, [0, 1]] = corners[:, [1, 0]]\n",
    "print(len(corners))\n",
    "print(corners)\n",
    "dst = src.copy()\n",
    "for x, y in corners:\n",
    "    cv2.circle(dst, (x, y), 3, (0, 0, 255), 2)\n",
    "\n",
    "cv2.imshow('dst', dst)\n",
    "cv2.waitKey()\n",
    "cv2.destroyAllWindows()"
   ]
  },
  {
   "attachments": {},
   "cell_type": "markdown",
   "metadata": {},
   "source": [
    "### 8.4 일반적으로 사용하는 코너 점 검출"
   ]
  },
  {
   "cell_type": "code",
   "execution_count": 13,
   "metadata": {},
   "outputs": [
    {
     "name": "stdout",
     "output_type": "stream",
     "text": [
      "8 [[109 127]\n",
      " [264 127]\n",
      " [267 167]\n",
      " [386 170]\n",
      " [109 268]\n",
      " [167 271]\n",
      " [170 374]\n",
      " [386 374]]\n",
      "8 [[107.559364 125.559456]\n",
      " [265.44077  125.559235]\n",
      " [265.55923  168.44174 ]\n",
      " [387.4408   168.55888 ]\n",
      " [107.558365 269.44095 ]\n",
      " [168.4415   269.55927 ]\n",
      " [168.55922  375.4408  ]\n",
      " [387.4408   375.4408  ]]\n"
     ]
    }
   ],
   "source": [
    "import cv2\n",
    "import numpy as np\n",
    "\n",
    "def findLocalMaxima(src):\n",
    "    kernel = cv2.getStructuringElement(cv2.MORPH_RECT, (11, 11))\n",
    "    \n",
    "    dilate = cv2.dilate(src, kernel)\n",
    "    localMax = (src == dilate)\n",
    "    \n",
    "    erode = cv2.erode(src, kernel)\n",
    "    localMax2 = src > erode\n",
    "    localMax &= localMax2\n",
    "    points = np.argwhere(localMax == True)\n",
    "    points[:, [0, 1]] = points[:, [1, 0]]\n",
    "    return points\n",
    "\n",
    "src = cv2.imread('c:/data/CornerTest.jpg')\n",
    "gray = cv2.cvtColor(src, cv2.COLOR_BGR2GRAY)\n",
    "res = cv2.cornerHarris(gray, 5, 3, 0.01)\n",
    "ret, res = cv2.threshold(np.abs(res), 0.02, 0, cv2.THRESH_TOZERO)\n",
    "res8 = cv2.normalize(res, None, 0, 255, cv2.NORM_MINMAX, dtype=cv2.CV_8U)\n",
    "cv2.imshow('res8', res8)\n",
    "\n",
    "corners = findLocalMaxima(res)\n",
    "print(len(corners), corners)\n",
    "\n",
    "# 좀 더 정교한 corner 찾기\n",
    "corners = corners.astype(np.float32, 'C')\n",
    "term_crit = (cv2.TERM_CRITERIA_MAX_ITER+cv2.TERM_CRITERIA_EPS, 10, 0.01)\n",
    "corners2 = cv2.cornerSubPix(gray, corners, (5, 5), (-1, -1), term_crit)\n",
    "print(len(corners2), corners2)\n",
    "\n",
    "\n",
    "dst = src.copy()\n",
    "for x, y in np.int32(corners2):\n",
    "    cv2.circle(dst, (x, y), 5, (0, 0, 255), 2)\n",
    "\n",
    "cv2.imshow('dst', dst)\n",
    "cv2.waitKey()\n",
    "cv2.destroyAllWindows()"
   ]
  },
  {
   "attachments": {},
   "cell_type": "markdown",
   "metadata": {},
   "source": [
    "### 8.6 비디오에서 사용 가능한 corner 검출"
   ]
  },
  {
   "cell_type": "code",
   "execution_count": 2,
   "metadata": {},
   "outputs": [
    {
     "name": "stdout",
     "output_type": "stream",
     "text": [
      "(5, 1, 2) 5 [[[387. 375.]]\n",
      "\n",
      " [[169. 375.]]\n",
      "\n",
      " [[265. 126.]]\n",
      "\n",
      " [[168. 270.]]\n",
      "\n",
      " [[266. 168.]]]\n",
      "(5, 1, 2) 5 [[[387. 375.]]\n",
      "\n",
      " [[169. 375.]]\n",
      "\n",
      " [[265. 126.]]\n",
      "\n",
      " [[168. 270.]]\n",
      "\n",
      " [[266. 168.]]]\n"
     ]
    }
   ],
   "source": [
    "import cv2\n",
    "import numpy as np\n",
    "\n",
    "src = cv2.imread('c:/data/CornerTest.jpg')\n",
    "gray = cv2.cvtColor(src, cv2.COLOR_BGR2GRAY)\n",
    "\n",
    "K = 5 # 검출할 corner의 개수\n",
    "corners = cv2.goodFeaturesToTrack(gray, K, 0.05, 10)\n",
    "print(corners.shape, len(corners), corners)\n",
    "\n",
    "corners2 = cv2.goodFeaturesToTrack(gray, K, 0.05, 10, useHarrisDetector=True, k = 0.04)\n",
    "print(corners2.shape, len(corners2), corners)\n",
    "\n",
    "dst = src.copy()\n",
    "corners = corners.reshape(-1, 2)\n",
    "for x, y in corners:\n",
    "    cv2.circle(dst, (int(x), int(y)), 5, (0, 0, 255), -1)\n",
    "\n",
    "corners2 = corners2.reshape(-1, 2)\n",
    "for x, y in corners2:\n",
    "    cv2.circle(dst, (int(x), int(y)), 5, (255, 0, 0), 2)\n",
    "\n",
    "cv2.imshow('dst', dst)\n",
    "cv2.waitKey()\n",
    "cv2.destroyAllWindows()"
   ]
  },
  {
   "attachments": {},
   "cell_type": "markdown",
   "metadata": {},
   "source": [
    "### 8.7 체스보드 패턴 검출"
   ]
  },
  {
   "cell_type": "code",
   "execution_count": 15,
   "metadata": {},
   "outputs": [
    {
     "name": "stdout",
     "output_type": "stream",
     "text": [
      "(18, 1, 2) 18 [[[455.34433 226.53378]]\n",
      "\n",
      " [[409.39923 219.81999]]\n",
      "\n",
      " [[367.74002 215.4076 ]]\n",
      "\n",
      " [[324.20044 213.23212]]\n",
      "\n",
      " [[278.29123 209.68956]]\n",
      "\n",
      " [[238.23654 205.51662]]\n",
      "\n",
      " [[460.6499  178.78876]]\n",
      "\n",
      " [[414.6205  176.80276]]\n",
      "\n",
      " [[370.02316 170.8178 ]]\n",
      "\n",
      " [[326.50217 169.51678]]\n",
      "\n",
      " [[286.254   165.41183]]\n",
      "\n",
      " [[243.83284 159.94035]]\n",
      "\n",
      " [[468.24713 132.65489]]\n",
      "\n",
      " [[419.30606 128.9939 ]]\n",
      "\n",
      " [[378.1978  126.20462]]\n",
      "\n",
      " [[334.00836 124.61804]]\n",
      "\n",
      " [[291.51782 118.95656]]\n",
      "\n",
      " [[246.54684 116.65251]]]\n"
     ]
    }
   ],
   "source": [
    "import cv2\n",
    "import numpy as np\n",
    "\n",
    "# 패턴 사이즈가 원본과 일치해야 오류가 안생김\n",
    "\n",
    "# 7x7\n",
    "# src = cv2.imread('c:/data/chess.jpg')\n",
    "# patternSize = (7, 7)\n",
    "src = cv2.imread('c:/data/chessBoard.jpg')\n",
    "patternSize = (6, 3)\n",
    "gray = cv2.cvtColor(src, cv2.COLOR_BGR2GRAY)\n",
    "found, corners = cv2.findChessboardCorners(src, patternSize)\n",
    "print(corners.shape, len(corners), corners)\n",
    "\n",
    "term_crit = (cv2.TERM_CRITERIA_MAX_ITER+cv2.TERM_CRITERIA_EPS, 10, 0.01)\n",
    "corners2 = cv2.cornerSubPix(gray, corners, (5, 5), (-1, -1), term_crit)\n",
    "\n",
    "dst = src.copy()\n",
    "cv2.drawChessboardCorners(dst, patternSize, corners2, found)\n",
    "\n",
    "cv2.imshow('dst', dst)\n",
    "cv2.waitKey()\n",
    "cv2.destroyAllWindows()"
   ]
  },
  {
   "attachments": {},
   "cell_type": "markdown",
   "metadata": {},
   "source": [
    "### 8.8 원 패턴 중심점 검출"
   ]
  },
  {
   "cell_type": "code",
   "execution_count": 14,
   "metadata": {},
   "outputs": [
    {
     "name": "stdout",
     "output_type": "stream",
     "text": [
      "(20, 1, 2) 20 [[[ 49.494728  49.367813]]\n",
      "\n",
      " [[149.50102   49.364902]]\n",
      "\n",
      " [[249.50528   49.367813]]\n",
      "\n",
      " [[349.49472   49.367813]]\n",
      "\n",
      " [[449.50104   49.364902]]\n",
      "\n",
      " [[ 49.498344 149.11923 ]]\n",
      "\n",
      " [[149.50214  149.1125  ]]\n",
      "\n",
      " [[249.50272  149.11885 ]]\n",
      "\n",
      " [[349.49835  149.11923 ]]\n",
      "\n",
      " [[449.50214  149.1125  ]]\n",
      "\n",
      " [[ 49.498344 248.88077 ]]\n",
      "\n",
      " [[149.50214  248.8875  ]]\n",
      "\n",
      " [[249.50272  248.88115 ]]\n",
      "\n",
      " [[349.49835  248.88077 ]]\n",
      "\n",
      " [[449.50214  248.8875  ]]\n",
      "\n",
      " [[ 49.494728 348.6322  ]]\n",
      "\n",
      " [[149.50102  348.6351  ]]\n",
      "\n",
      " [[249.50528  348.6322  ]]\n",
      "\n",
      " [[349.49472  348.6322  ]]\n",
      "\n",
      " [[449.50104  348.6351  ]]]\n"
     ]
    }
   ],
   "source": [
    "import cv2\n",
    "import numpy as np\n",
    "\n",
    "src = cv2.imread('c:/data/circleGrid.jpg')\n",
    "gray = cv2.cvtColor(src, cv2.COLOR_BGR2GRAY)\n",
    "patternSize = (6, 4)\n",
    "found, centers = cv2.findCirclesGrid(src, patternSize)\n",
    "print(centers.shape, len(centers), centers)\n",
    "\n",
    "term_crit = (cv2.TERM_CRITERIA_MAX_ITER+cv2.TERM_CRITERIA_EPS, 10, 0.01)\n",
    "centers2 = cv2.cornerSubPix(gray, centers, (5, 5), (-1, -1), term_crit)\n",
    "\n",
    "dst = src.copy()\n",
    "cv2.drawChessboardCorners(dst, patternSize, centers2, found)\n",
    "cv2.imshow('dst', dst)\n",
    "cv2.waitKey()\n",
    "cv2.destroyAllWindows()"
   ]
  }
 ],
 "metadata": {
  "kernelspec": {
   "display_name": "Python 3",
   "language": "python",
   "name": "python3"
  },
  "language_info": {
   "codemirror_mode": {
    "name": "ipython",
    "version": 3
   },
   "file_extension": ".py",
   "mimetype": "text/x-python",
   "name": "python",
   "nbconvert_exporter": "python",
   "pygments_lexer": "ipython3",
   "version": "3.8.10"
  },
  "orig_nbformat": 4
 },
 "nbformat": 4,
 "nbformat_minor": 2
}
