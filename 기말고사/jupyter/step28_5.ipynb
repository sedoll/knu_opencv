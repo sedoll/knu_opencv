{
 "cells": [
  {
   "cell_type": "code",
   "execution_count": 3,
   "metadata": {},
   "outputs": [],
   "source": [
    "import numpy as np\n",
    "import numpy.linalg as linalg\n",
    "import matplotlib.pyplot as plt"
   ]
  },
  {
   "cell_type": "code",
   "execution_count": 4,
   "metadata": {},
   "outputs": [],
   "source": [
    "# 2D coordinates (x, y) in columns\n",
    "X = np.array([[0,  0,  0, 100, 100, 150,-100,-150],\n",
    "              [0, 50,-50,   0,  30, 100, -20,-100]], dtype=np.float32)\n",
    "\n",
    "m, n = X.shape"
   ]
  },
  {
   "cell_type": "code",
   "execution_count": 7,
   "metadata": {},
   "outputs": [
    {
     "data": {
      "text/plain": [
       "array([[12.5 ],\n",
       "       [ 1.25]], dtype=float32)"
      ]
     },
     "execution_count": 7,
     "metadata": {},
     "output_type": "execute_result"
    }
   ],
   "source": [
    "mX = np.mean(X, axis = 1)\n",
    "mX =  mX.reshape(-1, 1) #mX[:, np.newaxis]\n",
    "mX"
   ]
  },
  {
   "cell_type": "code",
   "execution_count": 8,
   "metadata": {},
   "outputs": [
    {
     "data": {
      "text/plain": [
       "array([[73750. , 34875. ],\n",
       "       [34875. , 26287.5]], dtype=float32)"
      ]
     },
     "execution_count": 8,
     "metadata": {},
     "output_type": "execute_result"
    }
   ],
   "source": [
    "A = X - mX \n",
    "C = np.dot(A, A.T)\n",
    "#C = np.dot(A, A.T)/(n-1) # sample covariance, np.cov(X, ddof=1)\n",
    "C"
   ]
  },
  {
   "cell_type": "code",
   "execution_count": 9,
   "metadata": {},
   "outputs": [
    {
     "name": "stdout",
     "output_type": "stream",
     "text": [
      "(2, 2) (2,) (2, 2)\n"
     ]
    }
   ],
   "source": [
    "w, V = linalg.eigh(C) # C is symmetric\n",
    "# decending order by reverse\n",
    "w = w[::-1] \n",
    "V = V[:, ::-1]\n",
    "V\n",
    "print(C.shape, w.shape, V.shape)"
   ]
  },
  {
   "cell_type": "code",
   "execution_count": 6,
   "metadata": {},
   "outputs": [
    {
     "data": {
      "text/plain": [
       "array([[  11.63,  -11.75,   35.02,  -76.76,  -90.79, -167.72,  109.38,\n",
       "         190.99],\n",
       "       [  -4.74,  -48.94,   39.45,   42.03,   15.51,  -22.98,  -33.83,\n",
       "          13.5 ]])"
      ]
     },
     "execution_count": 6,
     "metadata": {},
     "output_type": "execute_result"
    }
   ],
   "source": [
    "# PCA projection\n",
    "A = X - mX\n",
    "Y = np.dot(V.T, A )\n",
    "np.round(Y,2)"
   ]
  },
  {
   "cell_type": "code",
   "execution_count": 7,
   "metadata": {},
   "outputs": [
    {
     "data": {
      "text/plain": [
       "array([[   0.,   -0.,    0.,  100.,  100.,  150., -100., -150.],\n",
       "       [  -0.,   50.,  -50.,    0.,   30.,  100.,  -20., -100.]])"
      ]
     },
     "execution_count": 7,
     "metadata": {},
     "output_type": "execute_result"
    }
   ],
   "source": [
    "# PCA back projection\n",
    "X2 = np.dot(V, Y) + mX\n",
    "np.round(X2)"
   ]
  },
  {
   "cell_type": "code",
   "execution_count": 8,
   "metadata": {},
   "outputs": [
    {
     "data": {
      "text/plain": [
       "True"
      ]
     },
     "execution_count": 8,
     "metadata": {},
     "output_type": "execute_result"
    }
   ],
   "source": [
    "np.allclose(X2, X)"
   ]
  },
  {
   "cell_type": "code",
   "execution_count": 9,
   "metadata": {},
   "outputs": [
    {
     "data": {
      "text/plain": [
       "array([[   2.,   23.,  -18.,   80.,   93.,  161.,  -84., -156.],\n",
       "       [  -4.,    7.,  -15.,   37.,   44.,   80.,  -50.,  -88.]])"
      ]
     },
     "execution_count": 9,
     "metadata": {},
     "output_type": "execute_result"
    }
   ],
   "source": [
    "# Approximation using back projection with k-PC\n",
    "k = 1\n",
    "Vk = V.copy()\n",
    "Vk[:, k:] = 0\n",
    "Xk = np.dot(Vk, Y) + mX\n",
    "np.round(Xk)"
   ]
  },
  {
   "cell_type": "code",
   "execution_count": 10,
   "metadata": {},
   "outputs": [
    {
     "data": {
      "text/plain": [
       "88.51760505419699"
      ]
     },
     "execution_count": 10,
     "metadata": {},
     "output_type": "execute_result"
    }
   ],
   "source": [
    "error = np.sqrt(np.sum((X - Xk)**2)) # Frobenius Norm\n",
    "error"
   ]
  }
 ],
 "metadata": {
  "kernelspec": {
   "display_name": "Python 3",
   "language": "python",
   "name": "python3"
  },
  "language_info": {
   "codemirror_mode": {
    "name": "ipython",
    "version": 3
   },
   "file_extension": ".py",
   "mimetype": "text/x-python",
   "name": "python",
   "nbconvert_exporter": "python",
   "pygments_lexer": "ipython3",
   "version": "3.8.10"
  }
 },
 "nbformat": 4,
 "nbformat_minor": 2
}
