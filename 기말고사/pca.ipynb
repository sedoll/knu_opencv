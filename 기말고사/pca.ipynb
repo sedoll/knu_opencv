{
 "cells": [
  {
   "attachments": {},
   "cell_type": "markdown",
   "metadata": {},
   "source": [
    "### 4.23 통계적 거리계산, 마하라노비스\n",
    "* 데이터가 어떻게 퍼져있는지 알고싶을 때는 cv2.calcCovarMatrix\n",
    "* 통계적 거리를 알고싶을 때는 cv2.Mahalanobis"
   ]
  },
  {
   "cell_type": "code",
   "execution_count": 10,
   "metadata": {},
   "outputs": [
    {
     "name": "stdout",
     "output_type": "stream",
     "text": [
      "mean= [[12.5   1.25  1.25]]\n",
      "cov= [[73750.  34875.  34875. ]\n",
      " [34875.  26287.5 26287.5]\n",
      " [34875.  26287.5 26287.5]]\n",
      "icov= [[0. 0. 0.]\n",
      " [0. 0. 0.]\n",
      " [0. 0. 0.]]\n",
      "dist =  0.0\n"
     ]
    }
   ],
   "source": [
    "# 0423.py\n",
    "import cv2\n",
    "import numpy as np\n",
    "\n",
    "# 첫 번째 행 x 좌표, 두 번째 행 y 좌표 / 여기 코드에는 총 8개의 좌표를 나타냄\n",
    "# (0, 0), (0, 50), (0, -50), (100, 0), \n",
    "# (100, 30), (150, 100), (-100, -20), (-150, -100) \n",
    "X = np.array([[0, 0,  0,100,100,150, -100,-150],\n",
    "              [0,50,-50,  0, 30,100,  -20,-100]], dtype=np.float64)\n",
    "\n",
    "X = X.transpose()\n",
    "# X = X.T\n",
    "\n",
    "# cov는 공분산 행렬, mean은 평균벡터\n",
    "# 현재 X의 차원이 2차원 이라서 mean은 2개, cov는 2x2로 결과가 나타남\n",
    "# mean 매개변수는 평균값을 기준으로 할지 설정\n",
    "cov, mean = cv2.calcCovarMatrix(X, mean=None, \n",
    "                               flags = cv2.COVAR_NORMAL + cv2.COVAR_ROWS)\n",
    "print('mean=', mean)\n",
    "print('cov=', cov)\n",
    "\n",
    "# 통계적 거리를 위한 연산\n",
    "\n",
    "# 공분산 행렬의 역행렬 계산\n",
    "ret, icov = cv2.invert(cov)\n",
    "print('icov=',icov)\n",
    "\n",
    "# 유클리드 거리 상으로는 50 차이\n",
    "v1 = np.array([[0],[0]] , dtype=np.float64)\n",
    "v2 = np.array([[0],[50]], dtype=np.float64)\n",
    "\n",
    "# v1, v2의 통계적 거리 계산\n",
    "# 통계적으로 둘이 얼마만큼 떨어져 있는지 확인\n",
    "dist = cv2.Mahalanobis(v1, v2, icov)\n",
    "print('dist = ', dist)\n",
    "                \n",
    "cv2.waitKey()    \n",
    "cv2.destroyAllWindows()"
   ]
  },
  {
   "attachments": {},
   "cell_type": "markdown",
   "metadata": {},
   "source": [
    "### 4.24 4.23을 그림으로 표시한 것"
   ]
  },
  {
   "cell_type": "code",
   "execution_count": 11,
   "metadata": {},
   "outputs": [
    {
     "name": "stdout",
     "output_type": "stream",
     "text": [
      "eVals= [[92202.13359547]\n",
      " [ 7835.36640453]]\n",
      "eVects= [[ 0.88390424  0.46766793]\n",
      " [-0.46766793  0.88390424]]\n"
     ]
    }
   ],
   "source": [
    "# 0424.py\n",
    "import cv2\n",
    "import numpy as np\n",
    " \n",
    "X = np.array([[0, 0,  0,100,100,150, -100,-150],\n",
    "                 [0,50,-50,  0, 30,100,  -20,-100]], dtype=np.float64)\n",
    "X = X.transpose() # X = X.T\n",
    "\n",
    "cov, mean = cv2.calcCovarMatrix(X, mean=None,\n",
    "                                    flags=cv2.COVAR_NORMAL+cv2.COVAR_ROWS)\n",
    "ret, icov = cv2.invert(cov)\n",
    "\n",
    "dst = np.full((512,512,3), (255, 255, 255), dtype= np.uint8)\n",
    "rows, cols, channel = dst.shape\n",
    "centerX = cols//2\n",
    "centerY = rows//2\n",
    "\n",
    "v2 = np.zeros((1,2), dtype=np.float64)\n",
    "FLIP_Y = lambda y: rows - 1 - y\n",
    "\n",
    "# 통계적 거리에 따라 같은 거리를 같은 색으로 표시\n",
    "for y in range(rows):\n",
    "    for x in range(cols):\n",
    "        v2[0,0] = x - centerX\n",
    "        v2[0,1] = FLIP_Y(y) - centerY # y-축 뒤집기\n",
    "        dist = cv2.Mahalanobis(mean, v2, icov)\n",
    "        if dist < 0.1:\n",
    "            dst[y, x] = [50, 50, 50]\n",
    "        elif dist < 0.3:\n",
    "            dst[y, x] = [100, 100, 100]\n",
    "        elif dist < 0.8:\n",
    "            dst[y, x] = [200, 200, 200]\n",
    "        else:\n",
    "            dst[y, x] = [250, 250, 250]\n",
    "\n",
    "# 좌표 점 표시\n",
    "for k in range(X.shape[0]):\n",
    "    x, y = X[k,:]\n",
    "    cx = int(x+centerX)\n",
    "    cy = int(y+centerY)\n",
    "    cy = FLIP_Y(cy)\n",
    "    cv2.circle(dst,(cx,cy),radius=5,color=(0,0,255),thickness=-1)\n",
    "    \n",
    "# draw X, Y-axes\n",
    "cv2.line(dst, (0, 256), (cols-1, 256), (0, 0, 0))\n",
    "cv2.line(dst, (256,0), (256,rows), (0, 0, 0))\n",
    "\n",
    "# 공분산 행렬을 통해 고유 값과 고유벡터 출력\n",
    "ret, eVals, eVects = cv2.eigen(cov)\n",
    "print('eVals=',  eVals)\n",
    "print('eVects=', eVects)\n",
    "\n",
    "def ptsEigenVector(eVal, eVect):\n",
    "##    global mX, centerX, centerY\n",
    "    scale = np.sqrt(eVal) # eVal[0]\n",
    "    x1 = scale*eVect[0]\n",
    "    y1 = scale*eVect[1]\n",
    "    x2, y2 = -x1, -y1 # 대칭\n",
    "\n",
    "    x1 += mean[0,0] + centerX\n",
    "    y1 += mean[0,1] + centerY\n",
    "    x2 += mean[0,0] + centerX\n",
    "    y2 += mean[0,1] + centerY\n",
    "    y1 = FLIP_Y(y1)\n",
    "    y2 = FLIP_Y(y2)\n",
    "    return int(x1), int(y1), int(x2), int(y2)\n",
    "\n",
    "# 고유값과 고유 벡터를 통해 직선 표시\n",
    "# draw eVects[0]\n",
    "x1, y1, x2, y2 = ptsEigenVector(eVals[0], eVects[0])\n",
    "cv2.line(dst, (x1, y1), (x2, y2), (255, 0, 0), 2)\n",
    "\n",
    "# draw eVects[1]\n",
    "x1, y1, x2, y2 = ptsEigenVector(eVals[1], eVects[1])\n",
    "cv2.line(dst, (x1, y1), (x2, y2), (255, 0, 0), 2)\n",
    "\n",
    "cv2.imshow('dst', dst)               \n",
    "cv2.waitKey()    \n",
    "cv2.destroyAllWindows()"
   ]
  },
  {
   "attachments": {},
   "cell_type": "markdown",
   "metadata": {},
   "source": [
    "### 4.25 PCA 투영, 역투영"
   ]
  },
  {
   "cell_type": "code",
   "execution_count": 13,
   "metadata": {},
   "outputs": [
    {
     "name": "stdout",
     "output_type": "stream",
     "text": [
      "mean =  [[12.5   1.25]]\n",
      "eVects =  [[ 0.88390424  0.46766793]\n",
      " [-0.46766793  0.88390424]]\n",
      "Y =  [[ -11.63338792    4.74096885]\n",
      " [  11.75000868   48.93618085]\n",
      " [ -35.01678451  -39.45424315]\n",
      " [  76.75703609  -42.02582434]\n",
      " [  90.78707404  -15.50869713]\n",
      " [ 167.71904127   22.98120308]\n",
      " [-109.37717055   33.82967723]\n",
      " [-190.9858171   -13.49926538]]\n",
      "X2 =  [[ 1.77635684e-15  0.00000000e+00]\n",
      " [ 3.55271368e-15  5.00000000e+01]\n",
      " [ 0.00000000e+00 -5.00000000e+01]\n",
      " [ 1.00000000e+02 -7.10542736e-15]\n",
      " [ 1.00000000e+02  3.00000000e+01]\n",
      " [ 1.50000000e+02  1.00000000e+02]\n",
      " [-1.00000000e+02 -2.00000000e+01]\n",
      " [-1.50000000e+02 -1.00000000e+02]]\n",
      "X =  [[   0.    0.]\n",
      " [   0.   50.]\n",
      " [   0.  -50.]\n",
      " [ 100.    0.]\n",
      " [ 100.   30.]\n",
      " [ 150.  100.]\n",
      " [-100.  -20.]\n",
      " [-150. -100.]]\n",
      "True\n"
     ]
    }
   ],
   "source": [
    "# 0425.py\n",
    "import cv2\n",
    "import numpy as np\n",
    "\n",
    "X = np.array([[0, 0,  0,100,100,150, -100,-150],\n",
    "                 [0,50,-50,  0, 30,100,  -20,-100]], dtype=np.float64)\n",
    "X = X.transpose() # X = X.T\n",
    "\n",
    "##mean = cv2.reduce(X, 0, cv2.REDUCE_AVG)\n",
    "##print('mean = ', mean)\n",
    "\n",
    "# 평균벡터와 고유벡터 추출\n",
    "mean, eVects = cv2.PCACompute(X, mean=None)\n",
    "print('mean = ', mean)\n",
    "print('eVects = ', eVects)\n",
    "\n",
    "# PCA 투영\n",
    "Y =cv2.PCAProject(X, mean, eVects)\n",
    "print('Y = ', Y)\n",
    "\n",
    "# PCA 역투영\n",
    "X2 = cv2.PCABackProject(Y, mean, eVects)\n",
    "print('X2 = ', X2)\n",
    "print(np.allclose(X, X2)) # X와 X2의 값 비교 같을 시 True 반환\n",
    "cv2.waitKey()    \n",
    "cv2.destroyAllWindows()"
   ]
  },
  {
   "attachments": {},
   "cell_type": "markdown",
   "metadata": {},
   "source": [
    "### 4.26 3채널 컬러 영상의 PCA 투영"
   ]
  },
  {
   "cell_type": "code",
   "execution_count": 18,
   "metadata": {},
   "outputs": [
    {
     "name": "stdout",
     "output_type": "stream",
     "text": [
      "X.shape= (90000, 3)\n",
      "mean =  [[105.272224  99.431435 179.60574 ]]\n",
      "eVects =  [[ 0.39347526  0.6897963   0.6077484 ]\n",
      " [-0.6337587  -0.27536684  0.7228575 ]\n",
      " [ 0.6659781  -0.6695924   0.32881448]]\n",
      "Y.shape= (300, 300, 3)\n"
     ]
    }
   ],
   "source": [
    "# 0426.py\n",
    "import cv2\n",
    "import numpy as np\n",
    "\n",
    "src = cv2.imread('c:/data/lena.jpg')\n",
    "src= cv2.resize(src, (300, 300))\n",
    "b, g, r = cv2.split(src) \n",
    "cv2.imshow('b', b)\n",
    "cv2.imshow('g', g)\n",
    "cv2.imshow('r', r)\n",
    "\n",
    "X = src.reshape(-1, 3)\n",
    "print('X.shape=', X.shape) # 첫번째 값이 픽셀 개수\n",
    "\n",
    "# PCA(주 성분 분석)\n",
    "# 입력 영상의 차원이 3개 이므로 3개의 평균벡터, 3x3 고유벡터 추출\n",
    "mean, eVects = cv2.PCACompute(X, mean=None)\n",
    "print('mean = ', mean)\n",
    "print('eVects = ', eVects)\n",
    "\n",
    "# PCA 투영\n",
    "Y = cv2.PCAProject(X, mean, eVects) # 평균벡터, 고유벡터 입력\n",
    "Y = Y.reshape(src.shape) # opencv 상에서 보여주기 위해 원본과 똑같이 shape\n",
    "print('Y.shape=', Y.shape)\n",
    "\n",
    "eImage = list(cv2.split(Y)) # 채널 분리\n",
    "for i in range(3):\n",
    "    cv2.normalize(eImage[i], eImage[i], 0, 255, cv2.NORM_MINMAX)\n",
    "    eImage[i]=eImage[i].astype(np.uint8)\n",
    "    \n",
    "cv2.imshow('eImage[0]', eImage[0])\n",
    "cv2.imshow('eImage[1]', eImage[1])\n",
    "cv2.imshow('eImage[2]', eImage[2])\n",
    "cv2.waitKey()    \n",
    "cv2.destroyAllWindows()"
   ]
  }
 ],
 "metadata": {
  "kernelspec": {
   "display_name": "Python 3",
   "language": "python",
   "name": "python3"
  },
  "language_info": {
   "codemirror_mode": {
    "name": "ipython",
    "version": 3
   },
   "file_extension": ".py",
   "mimetype": "text/x-python",
   "name": "python",
   "nbconvert_exporter": "python",
   "pygments_lexer": "ipython3",
   "version": "3.8.10"
  },
  "orig_nbformat": 4
 },
 "nbformat": 4,
 "nbformat_minor": 2
}
