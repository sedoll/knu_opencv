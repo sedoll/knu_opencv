{
 "cells": [
  {
   "cell_type": "code",
   "execution_count": 1,
   "metadata": {},
   "outputs": [],
   "source": [
    "import numpy as np\n",
    "import numpy.linalg as linalg\n",
    "import matplotlib.pyplot as plt"
   ]
  },
  {
   "cell_type": "code",
   "execution_count": 2,
   "metadata": {},
   "outputs": [],
   "source": [
    "# 4 vectors with 10-dimension\n",
    "# each row is a vector\n",
    "\n",
    "#np.random.seed(1)\n",
    "#X = np.arange(50)\n",
    "#np.random.shuffle(X)\n",
    "#X = X.reshape(-1, 10)\n",
    "#X\n",
    "X = np.array([[27, 35, 40, 38,  2,  3, 48, 29, 46, 31],\n",
    "              [32, 39, 21, 36, 19, 42, 49, 26, 22, 13],\n",
    "              [41, 17, 45, 24, 23,  4, 33, 14, 30, 10],\n",
    "              [28, 44, 34, 18, 20, 25,  6,  7, 47,  1],\n",
    "              [16,  0, 15,  5, 11,  9,  8, 12, 43, 37]], dtype=np.float)\n",
    "m, n = X.shape"
   ]
  },
  {
   "cell_type": "code",
   "execution_count": 3,
   "metadata": {},
   "outputs": [
    {
     "data": {
      "text/plain": [
       "(10, 10)"
      ]
     },
     "execution_count": 3,
     "metadata": {},
     "output_type": "execute_result"
    }
   ],
   "source": [
    "mX = np.mean(X, axis = 0) \n",
    "A = X - mX\n",
    "C = np.dot(A.T, A)\n",
    "#C = np.dot(A.T, A)/(m-1) #sample covariance, np.cov(X.T, ddof=1)\n",
    "C.shape"
   ]
  },
  {
   "cell_type": "code",
   "execution_count": 4,
   "metadata": {},
   "outputs": [
    {
     "data": {
      "text/plain": [
       "(4, 4)"
      ]
     },
     "execution_count": 4,
     "metadata": {},
     "output_type": "execute_result"
    }
   ],
   "source": [
    "np.linalg.matrix_rank(A), np.linalg.matrix_rank(C)"
   ]
  },
  {
   "cell_type": "code",
   "execution_count": 5,
   "metadata": {
    "scrolled": true
   },
   "outputs": [
    {
     "data": {
      "text/plain": [
       "(10, 10)"
      ]
     },
     "execution_count": 5,
     "metadata": {},
     "output_type": "execute_result"
    }
   ],
   "source": [
    "w, V = linalg.eigh(C) # C is symmetric\n",
    "# decending order by reverse\n",
    "w = w[::-1] \n",
    "V = V[:, ::-1]\n",
    "V.shape"
   ]
  },
  {
   "cell_type": "code",
   "execution_count": 6,
   "metadata": {},
   "outputs": [
    {
     "data": {
      "text/plain": [
       "array([3600.43, 2144.32, 1316.3 ,  878.14,    0.  ,    0.  ,    0.  ,\n",
       "         -0.  ,   -0.  ,   -0.  ])"
      ]
     },
     "execution_count": 6,
     "metadata": {},
     "output_type": "execute_result"
    }
   ],
   "source": [
    "np.round(w,2)"
   ]
  },
  {
   "cell_type": "code",
   "execution_count": 7,
   "metadata": {
    "scrolled": true
   },
   "outputs": [
    {
     "data": {
      "text/plain": [
       "array([[-16.35, -28.74,   9.22],\n",
       "       [-34.27,   7.41, -23.45],\n",
       "       [ -1.65,  -3.34,  18.62],\n",
       "       [  6.25,  34.11,  10.55],\n",
       "       [ 46.01,  -9.44, -14.95]])"
      ]
     },
     "execution_count": 7,
     "metadata": {},
     "output_type": "execute_result"
    }
   ],
   "source": [
    "# PCA projection using k-PC\n",
    "k = 3\n",
    "A = X - mX\n",
    "Yk = np.dot(A, V[:, :k] )\n",
    "np.round(Yk,2)"
   ]
  },
  {
   "cell_type": "code",
   "execution_count": 8,
   "metadata": {},
   "outputs": [
    {
     "name": "stdout",
     "output_type": "stream",
     "text": [
      "Approximation:88.93916572364614%\n"
     ]
    },
    {
     "data": {
      "text/plain": [
       "array([[32.5, 26.1, 41.1, 36.3,  7.9,  2.4, 50.7, 27.4, 37.4, 27.7],\n",
       "       [30.2, 42. , 20.6, 36.6, 17. , 42.2, 48.1, 26.5, 24.9, 14.1],\n",
       "       [33.4, 29.3, 43.5, 26.4, 14.8,  4.8, 29.2, 16.2, 41.9, 14.5],\n",
       "       [32.2, 37.2, 34.9, 16.7, 24.5, 24.5,  8.1,  5.8, 40.4, -1.5],\n",
       "       [15.7,  0.4, 14.9,  5.1, 10.7,  9. ,  7.9, 12.1, 43.4, 37.2]])"
      ]
     },
     "execution_count": 8,
     "metadata": {},
     "output_type": "execute_result"
    }
   ],
   "source": [
    "# Approximation by back projection using k-PC\n",
    "\n",
    "Y = np.dot(A, V) # PCA projection\n",
    "\n",
    "k = 3\n",
    "w[w<0] = 0 # w> 0 but numerically, it will be < 0\n",
    "ratio = np.sum(w[:k])/np.sum(w)\n",
    "print(\"Approximation:{}%\".format(ratio*100))\n",
    "\n",
    "Vk = V.copy()\n",
    "Vk[:, k:] = 0\n",
    "Xk = np.dot(Y, Vk.T) + mX\n",
    "np.round(Xk, 1)"
   ]
  },
  {
   "cell_type": "code",
   "execution_count": 9,
   "metadata": {},
   "outputs": [
    {
     "data": {
      "text/plain": [
       "29.633456681060427"
      ]
     },
     "execution_count": 9,
     "metadata": {},
     "output_type": "execute_result"
    }
   ],
   "source": [
    "error = np.sqrt(np.sum((X - Xk)**2)) # Frobenius Norm\n",
    "error"
   ]
  }
 ],
 "metadata": {
  "kernelspec": {
   "display_name": "Python 3",
   "language": "python",
   "name": "python3"
  },
  "language_info": {
   "codemirror_mode": {
    "name": "ipython",
    "version": 3
   },
   "file_extension": ".py",
   "mimetype": "text/x-python",
   "name": "python",
   "nbconvert_exporter": "python",
   "pygments_lexer": "ipython3",
   "version": "3.8.1"
  }
 },
 "nbformat": 4,
 "nbformat_minor": 2
}
