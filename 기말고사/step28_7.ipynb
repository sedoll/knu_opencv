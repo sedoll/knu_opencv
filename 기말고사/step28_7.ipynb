{
 "cells": [
  {
   "cell_type": "code",
   "execution_count": 1,
   "metadata": {},
   "outputs": [],
   "source": [
    "import numpy as np\n",
    "import numpy.linalg as linalg\n",
    "import matplotlib.pyplot as plt"
   ]
  },
  {
   "cell_type": "code",
   "execution_count": 2,
   "metadata": {},
   "outputs": [],
   "source": [
    "X = np.array([[27, 35, 40, 38,  2,  3, 48, 29, 46, 31],\n",
    "              [32, 39, 21, 36, 19, 42, 49, 26, 22, 13],\n",
    "              [41, 17, 45, 24, 23,  4, 33, 14, 30, 10],\n",
    "              [28, 44, 34, 18, 20, 25,  6,  7, 47,  1],\n",
    "              [16,  0, 15,  5, 11,  9,  8, 12, 43, 37]], dtype=np.float)\n",
    "m, n = X.shape"
   ]
  },
  {
   "cell_type": "code",
   "execution_count": 3,
   "metadata": {},
   "outputs": [
    {
     "data": {
      "text/plain": [
       "4"
      ]
     },
     "execution_count": 3,
     "metadata": {},
     "output_type": "execute_result"
    }
   ],
   "source": [
    "mX = np.mean(X, axis = 0) \n",
    "A = X - mX\n",
    "r = np.linalg.matrix_rank(A)\n",
    "r"
   ]
  },
  {
   "cell_type": "code",
   "execution_count": 4,
   "metadata": {},
   "outputs": [
    {
     "data": {
      "text/plain": [
       "((10, 10), (10,), (10, 10))"
      ]
     },
     "execution_count": 4,
     "metadata": {},
     "output_type": "execute_result"
    }
   ],
   "source": [
    "#1 AtA\n",
    "\n",
    "AtA = np.dot(A.T, A)\n",
    "ata_w, V = linalg.eigh(AtA) # AtA is symmetric\n",
    "# decending order by reverse\n",
    "ata_w = ata_w[::-1] \n",
    "V = V[:, ::-1]\n",
    "AtA.shape, ata_w.shape, V.shape"
   ]
  },
  {
   "cell_type": "code",
   "execution_count": 5,
   "metadata": {
    "scrolled": true
   },
   "outputs": [
    {
     "data": {
      "text/plain": [
       "array([3600.43, 2144.32, 1316.3 ,  878.14,    0.  ,    0.  ,    0.  ,\n",
       "         -0.  ,   -0.  ,   -0.  ])"
      ]
     },
     "execution_count": 5,
     "metadata": {},
     "output_type": "execute_result"
    }
   ],
   "source": [
    "# 10개로 계산\n",
    "np.round(ata_w, 2)"
   ]
  },
  {
   "cell_type": "code",
   "execution_count": 6,
   "metadata": {},
   "outputs": [
    {
     "data": {
      "text/plain": [
       "array([[-0.19,  0.06,  0.24, -0.35],\n",
       "       [-0.46,  0.34,  0.14,  0.57],\n",
       "       [-0.15, -0.06,  0.64, -0.07],\n",
       "       [-0.43, -0.16,  0.05,  0.11],\n",
       "       [-0.03,  0.27,  0.04, -0.38],\n",
       "       [-0.26,  0.46, -0.57,  0.04],\n",
       "       [-0.59, -0.47, -0.11, -0.17],\n",
       "       [-0.22, -0.26, -0.14,  0.1 ],\n",
       "       [ 0.2 , -0.03,  0.24,  0.55],\n",
       "       [ 0.21, -0.53, -0.29,  0.21]])"
      ]
     },
     "execution_count": 6,
     "metadata": {},
     "output_type": "execute_result"
    }
   ],
   "source": [
    "np.round(V[:, :r], 2)"
   ]
  },
  {
   "cell_type": "code",
   "execution_count": 7,
   "metadata": {},
   "outputs": [
    {
     "data": {
      "text/plain": [
       "((10, 10), (5,), (5, 5))"
      ]
     },
     "execution_count": 7,
     "metadata": {},
     "output_type": "execute_result"
    }
   ],
   "source": [
    "#2 AAt\n",
    "mX = np.mean(X, axis = 0) \n",
    "A = X - mX\n",
    "AAt = np.dot(A, A.T)\n",
    "\n",
    "aat_w, U = linalg.eigh(AAt) # AAt is symmetric\n",
    "# decending order by reverse\n",
    "aat_w = aat_w[::-1] \n",
    "U = U[:, ::-1]\n",
    "AtA.shape, aat_w.shape, U.shape"
   ]
  },
  {
   "cell_type": "code",
   "execution_count": 8,
   "metadata": {},
   "outputs": [
    {
     "data": {
      "text/plain": [
       "array([3600.43, 2144.32, 1316.3 ,  878.14,   -0.  ])"
      ]
     },
     "execution_count": 8,
     "metadata": {},
     "output_type": "execute_result"
    }
   ],
   "source": [
    "# 5개로 계산\n",
    "np.round(aat_w, 2)"
   ]
  },
  {
   "cell_type": "code",
   "execution_count": 9,
   "metadata": {
    "scrolled": false
   },
   "outputs": [
    {
     "data": {
      "text/plain": [
       "array([[-0.19, -0.06, -0.24, -0.35],\n",
       "       [-0.46, -0.34, -0.14,  0.57],\n",
       "       [-0.15,  0.06, -0.64, -0.07],\n",
       "       [-0.43,  0.16, -0.05,  0.11],\n",
       "       [-0.03, -0.27, -0.04, -0.38],\n",
       "       [-0.26, -0.46,  0.57,  0.04],\n",
       "       [-0.59,  0.47,  0.11, -0.17],\n",
       "       [-0.22,  0.26,  0.14,  0.1 ],\n",
       "       [ 0.2 ,  0.03, -0.24,  0.55],\n",
       "       [ 0.21,  0.53,  0.29,  0.21]])"
      ]
     },
     "execution_count": 9,
     "metadata": {},
     "output_type": "execute_result"
    }
   ],
   "source": [
    "V2 = np.dot(A.T, U) \n",
    "V2 = V2 / np.linalg.norm(V2, axis=0).reshape(1, -1)# unit vector\n",
    "np.round(V2[:, :r], 2)"
   ]
  },
  {
   "cell_type": "code",
   "execution_count": 10,
   "metadata": {},
   "outputs": [],
   "source": [
    "# Eigenvector sign matching\n",
    "for k  in range(r): # r = 4\n",
    "    if V[0,k]*V2[0, k]< 0:   # the first element sign in V, V2\n",
    "        V2[:,k] = -V2[:,k]"
   ]
  },
  {
   "cell_type": "code",
   "execution_count": 11,
   "metadata": {
    "scrolled": true
   },
   "outputs": [
    {
     "data": {
      "text/plain": [
       "array([[-0.19,  0.06,  0.24, -0.35],\n",
       "       [-0.46,  0.34,  0.14,  0.57],\n",
       "       [-0.15, -0.06,  0.64, -0.07],\n",
       "       [-0.43, -0.16,  0.05,  0.11],\n",
       "       [-0.03,  0.27,  0.04, -0.38],\n",
       "       [-0.26,  0.46, -0.57,  0.04],\n",
       "       [-0.59, -0.47, -0.11, -0.17],\n",
       "       [-0.22, -0.26, -0.14,  0.1 ],\n",
       "       [ 0.2 , -0.03,  0.24,  0.55],\n",
       "       [ 0.21, -0.53, -0.29,  0.21]])"
      ]
     },
     "execution_count": 11,
     "metadata": {},
     "output_type": "execute_result"
    }
   ],
   "source": [
    "np.round(V2[:, :r], 2)"
   ]
  },
  {
   "cell_type": "code",
   "execution_count": 12,
   "metadata": {},
   "outputs": [
    {
     "data": {
      "text/plain": [
       "True"
      ]
     },
     "execution_count": 12,
     "metadata": {},
     "output_type": "execute_result"
    }
   ],
   "source": [
    "np.allclose(V[:,:r], V2[:,:r])"
   ]
  }
 ],
 "metadata": {
  "kernelspec": {
   "display_name": "Python 3",
   "language": "python",
   "name": "python3"
  },
  "language_info": {
   "codemirror_mode": {
    "name": "ipython",
    "version": 3
   },
   "file_extension": ".py",
   "mimetype": "text/x-python",
   "name": "python",
   "nbconvert_exporter": "python",
   "pygments_lexer": "ipython3",
   "version": "3.8.1"
  }
 },
 "nbformat": 4,
 "nbformat_minor": 2
}
