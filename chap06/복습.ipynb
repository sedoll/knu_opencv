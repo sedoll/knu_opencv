{
 "cells": [
  {
   "attachments": {},
   "cell_type": "markdown",
   "metadata": {},
   "source": [
    "### 라플라시안과 제로크로싱 비교"
   ]
  },
  {
   "cell_type": "code",
   "execution_count": 4,
   "metadata": {},
   "outputs": [],
   "source": [
    "import cv2\n",
    "import numpy as np\n",
    "\n",
    "src = cv2.imread('c:/data/lena.jpg', cv2.IMREAD_GRAYSCALE)\n",
    "blur = cv2.GaussianBlur(src, ksize=(7, 7), sigmaX=0.0)\n",
    "lap = cv2.Laplacian(blur, cv2.CV_32F)\n",
    "\n",
    "cv2.imshow('src', src)\n",
    "\n",
    "ret, edge = cv2.threshold(np.abs(lap), 10, 255, cv2.THRESH_BINARY)\n",
    "edge = edge.astype(np.uint8)\n",
    "cv2.imshow('edge', edge)\n",
    "\n",
    "def SGN(x):\n",
    "    if x >= 0:\n",
    "        sign = 1\n",
    "    else:\n",
    "        sign = -1\n",
    "    return sign\n",
    "\n",
    "def zeroCrossing(lap):\n",
    "    height, width = lap.shape\n",
    "    Z = np.zeros(lap.shape, dtype=np.uint8)\n",
    "    for y in range(1, height - 1):\n",
    "        for x in range(1, width - 1):\n",
    "            neighbors =[lap[y-1, x], lap[y+1, x],\n",
    "                        lap[y, x-1], lap[y, x+1],\n",
    "                        lap[y-1, x-1], lap[y-1, x+1],\n",
    "                        lap[y+1, x-1], lap[y+1, x+1]]\n",
    "            mValue = min(neighbors)\n",
    "            if SGN(lap[y, x]) != SGN(mValue):\n",
    "                Z[y, x] = 255\n",
    "    return Z\n",
    "\n",
    "edgeZ = zeroCrossing(lap)\n",
    "cv2.imshow('Zero Crossing', 255 - edgeZ)\n",
    "cv2.waitKey()\n",
    "cv2.destroyAllWindows()"
   ]
  },
  {
   "attachments": {},
   "cell_type": "markdown",
   "metadata": {},
   "source": [
    "### 박스 필터와 양방향 필터"
   ]
  },
  {
   "cell_type": "code",
   "execution_count": 4,
   "metadata": {},
   "outputs": [],
   "source": [
    "import cv2\n",
    "import numpy as np\n",
    "\n",
    "src = cv2.imread('c:/data/lena.jpg', cv2.IMREAD_GRAYSCALE)\n",
    "dst1 = cv2.boxFilter(src, ddepth=-1, ksize=(11, 11))\n",
    "dst2 = cv2.boxFilter(src, ddepth=-1, ksize=(21, 21))\n",
    "dst3 = cv2.bilateralFilter(src, d=1, sigmaColor=10, sigmaSpace=10)\n",
    "dst4 = cv2.bilateralFilter(src, d=-1, sigmaColor=10, sigmaSpace=10)\n",
    "dst5 = cv2.blur(src, ksize=(3, 3))\n",
    "\n",
    "kernel = np.ones(shape=(3, 3), dtype=np.uint8) / 9\n",
    "dst6 = cv2.filter2D(src, cv2.CV_8U, kernel=kernel)\n",
    "\n",
    "kernel2 = np.array([[1/9, 1/9, 1/9],\n",
    "                   [1/9, 1/9, 1/9],\n",
    "                   [1/9, 1/9, 1/9]]) # 이렇게 설정한 경우에는 타입을 따로 안 줌\n",
    "dst7 = cv2.filter2D(src, cv2.CV_8U, kernel=kernel2)\n",
    "\n",
    "# cv2.imshow('dst1', dst1)\n",
    "# cv2.imshow('dst2', dst2)\n",
    "# cv2.imshow('dst3', dst3)\n",
    "# cv2.imshow('dst4', dst4)\n",
    "# cv2.imshow('dst5', dst5)\n",
    "cv2.imshow('dst6', dst6)\n",
    "cv2.imshow('dst7', dst7)\n",
    "cv2.waitKey()\n",
    "cv2.destroyAllWindows()"
   ]
  },
  {
   "attachments": {},
   "cell_type": "markdown",
   "metadata": {},
   "source": [
    "### 6.2 미디안, 블러, 가우시안"
   ]
  },
  {
   "cell_type": "code",
   "execution_count": 8,
   "metadata": {},
   "outputs": [],
   "source": [
    "import cv2\n",
    "import numpy as np\n",
    "\n",
    "src = cv2.imread('c:/data/lena.jpg', cv2.IMREAD_GRAYSCALE)\n",
    "dst1 = cv2.medianBlur(src, ksize=7)\n",
    "dst2 = cv2.blur(src, ksize=(7, 7))\n",
    "dst3 = cv2.GaussianBlur(src, ksize=(7, 7), sigmaX=0.0)\n",
    "dst4 = cv2.GaussianBlur(src, ksize=(7, 7), sigmaX=10.0)\n",
    "\n",
    "cv2.imshow('dst1', dst1)\n",
    "cv2.imshow('dst2', dst2)\n",
    "cv2.imshow('dst3', dst3)\n",
    "cv2.imshow('dst4', dst4)\n",
    "cv2.waitKey()\n",
    "cv2.destroyAllWindows()"
   ]
  },
  {
   "attachments": {},
   "cell_type": "markdown",
   "metadata": {},
   "source": [
    "### 소벨, 라플라시안"
   ]
  },
  {
   "cell_type": "code",
   "execution_count": 16,
   "metadata": {},
   "outputs": [
    {
     "name": "stdout",
     "output_type": "stream",
     "text": [
      "float32\n",
      "int32\n",
      "-2.0 2.0 -2.0 2.0\n"
     ]
    },
    {
     "data": {
      "image/png": "[encoded data removed]",
      "text/plain": [
       "<Figure size 432x288 with 1 Axes>"
      ]
     },
     "metadata": {
      "needs_background": "light"
     },
     "output_type": "display_data"
    },
    {
     "data": {
      "image/png": "[encoded data removed]",
      "text/plain": [
       "<Figure size 432x288 with 1 Axes>"
      ]
     },
     "metadata": {
      "needs_background": "light"
     },
     "output_type": "display_data"
    }
   ],
   "source": [
    "import cv2\n",
    "import numpy as np\n",
    "from matplotlib import pyplot as plt\n",
    "\n",
    "src = cv2.imread('c:/data/lena.jpg', cv2.IMREAD_GRAYSCALE)\n",
    "\n",
    "gx = cv2.Sobel(src, cv2.CV_32F, 1, 0, ksize=3)\n",
    "gy = cv2.Sobel(src, cv2.CV_32F, 0, 1, ksize=3)\n",
    "\n",
    "mag = cv2.magnitude(gx, gy)\n",
    "dst = cv2.normalize(mag, None, 0, 255, cv2.NORM_MINMAX, dtype=cv2.CV_8U)\n",
    "\n",
    "kernelX = np.array([[-1, 0, 1],\n",
    "                    [-2, 0, 2],\n",
    "                    [-1, 0, 1]], dtype=np.float32)\n",
    "\n",
    "kernelY = np.array([[-1, -2, -1], \n",
    "                   [0, 0, 0],\n",
    "                   [1, 2, 1]])\n",
    "\n",
    "print(kernelX.dtype)\n",
    "print(kernelY.dtype)\n",
    "\n",
    "min1, max1, _, _ = cv2.minMaxLoc(kernelX)\n",
    "min2, max2, _, _ = cv2.minMaxLoc(kernelY)\n",
    "print(min1, max1, min2, max2)\n",
    "\n",
    "gx2 = cv2.filter2D(src, cv2.CV_32F, kernelX)\n",
    "gy2 = cv2.filter2D(src, cv2.CV_32F, kernelY)\n",
    "\n",
    "mag2 = cv2.magnitude(gx2, gy2)\n",
    "dst2 = cv2.normalize(mag2, None, 0, 255, cv2.NORM_MINMAX, dtype=cv2.CV_8U)\n",
    "\n",
    "hist1 = cv2.calcHist([dst], [0], None, [64], [0, 256])\n",
    "hist2 = cv2.calcHist([dst2], [0], None, [64], [0, 256])\n",
    "\n",
    "plt.plot(hist1)\n",
    "plt.show()\n",
    "\n",
    "plt.plot(hist2)\n",
    "plt.show()\n",
    "\n",
    "cv2.imshow('src', src)\n",
    "cv2.imshow('dst', dst)\n",
    "cv2.imshow('dst2', dst2)\n",
    "cv2.waitKey()\n",
    "cv2.destroyAllWindows()"
   ]
  },
  {
   "attachments": {},
   "cell_type": "markdown",
   "metadata": {},
   "source": [
    "### 6.4 sobel 필터 엣지 방향"
   ]
  },
  {
   "cell_type": "code",
   "execution_count": 3,
   "metadata": {},
   "outputs": [],
   "source": [
    "import cv2\n",
    "import numpy as np\n",
    "from matplotlib import pyplot as plt\n",
    "\n",
    "src = cv2.imread('c:/data/rect.jpg', cv2.IMREAD_GRAYSCALE)\n",
    "cv2.imshow('src', src)\n",
    "\n",
    "gx = cv2.Sobel(src, cv2.CV_32F, 1, 0, ksize=3)\n",
    "gy = cv2.Sobel(src, cv2.CV_32F, 0, 1, ksize=3)\n",
    "\n",
    "mag, angle = cv2.cartToPolar(gx, gy, angleInDegrees=True)\n",
    "min, max, _, _ = cv2.minMaxLoc(angle)\n",
    "\n",
    "ret, edge = cv2.threshold(mag, 100, 255, cv2.THRESH_BINARY)\n",
    "edge = edge.astype(np.uint8)\n",
    "cv2.imshow('edge', edge)\n",
    "\n",
    "height, width = mag.shape[:2]\n",
    "angleM = np.full((height, width, 3), (0, 0, 0), dtype=np.uint8)\n",
    "for y in range(height):\n",
    "    for x in range(width):\n",
    "        if edge[y, x] != 0:\n",
    "            if angle[y, x] == 0:\n",
    "                angleM[y, x] = (0, 0, 255)\n",
    "            elif angle[y, x] == 90:\n",
    "                angleM[y, x] = (0, 255, 0)\n",
    "            elif angle[y, x] == 180:\n",
    "                angleM[y, x] = (255, 0, 0)\n",
    "            elif angle[y, x] == 270:\n",
    "                angleM[y, x] = (0, 255, 255)\n",
    "            else:\n",
    "                angleM[y, x] = (128, 128, 128)\n",
    "                \n",
    "cv2.imshow('angleM', angleM)\n",
    "cv2.waitKey()\n",
    "cv2.destroyAllWindows()"
   ]
  },
  {
   "attachments": {},
   "cell_type": "markdown",
   "metadata": {},
   "source": [
    "### laplacian 필터"
   ]
  },
  {
   "cell_type": "code",
   "execution_count": 3,
   "metadata": {},
   "outputs": [
    {
     "name": "stdout",
     "output_type": "stream",
     "text": [
      "-239.0 189.0 -35.0 30.0\n"
     ]
    }
   ],
   "source": [
    "import cv2\n",
    "import numpy as np\n",
    "\n",
    "src = cv2.imread('c:/data/lena.jpg', cv2.IMREAD_GRAYSCALE)\n",
    "blur = cv2.GaussianBlur(src, (7, 7), 0.0)\n",
    "cv2.imshow('src', src)\n",
    "cv2.imshow('blur', blur)\n",
    "\n",
    "lap = cv2.Laplacian(src, cv2.CV_32F)\n",
    "min, max, _, _ = cv2.minMaxLoc(lap)\n",
    "dst = cv2.convertScaleAbs(lap)\n",
    "dst = cv2.normalize(dst, None, 0, 255, cv2.NORM_MINMAX)\n",
    "cv2.imshow('lap', lap)\n",
    "cv2.imshow('dst', dst)\n",
    "\n",
    "lap2 = cv2.Laplacian(blur, cv2.CV_32F)\n",
    "min2, max2, _, _ = cv2.minMaxLoc(lap2)\n",
    "dst2 = cv2.convertScaleAbs(lap2)\n",
    "dst2 = cv2.normalize(dst2, None, 0, 255, cv2.NORM_MINMAX)\n",
    "cv2.imshow('lap2', lap2)\n",
    "cv2.imshow('dst2', dst2)\n",
    "\n",
    "print(min, max, min2, max2)\n",
    "\n",
    "cv2.waitKey()\n",
    "cv2.destroyAllWindows()"
   ]
  },
  {
   "attachments": {},
   "cell_type": "markdown",
   "metadata": {},
   "source": [
    "### 6.7 filter2D"
   ]
  },
  {
   "cell_type": "code",
   "execution_count": 5,
   "metadata": {},
   "outputs": [
    {
     "name": "stdout",
     "output_type": "stream",
     "text": [
      "[[-1.]\n",
      " [ 0.]\n",
      " [ 1.]]\n",
      "[[1.]\n",
      " [2.]\n",
      " [1.]]\n",
      "[[-1.  0.  1.]]\n",
      "[[-1.  0.  1.]\n",
      " [-2.  0.  2.]\n",
      " [-1.  0.  1.]]\n",
      "\n",
      "[[1.]\n",
      " [2.]\n",
      " [1.]]\n",
      "[[-1.]\n",
      " [ 0.]\n",
      " [ 1.]]\n",
      "[[1. 2. 1.]]\n",
      "[[-1. -2. -1.]\n",
      " [ 0.  0.  0.]\n",
      " [ 1.  2.  1.]]\n"
     ]
    }
   ],
   "source": [
    "import cv2\n",
    "import numpy as np\n",
    "\n",
    "src = cv2.imread('c:/data/rect.jpg', cv2.IMREAD_GRAYSCALE)\n",
    "\n",
    "kx, ky = cv2.getDerivKernels(1, 0, ksize=3)\n",
    "sobelX = ky.dot(kx.T)\n",
    "\n",
    "print(kx)\n",
    "print(ky)\n",
    "print(kx.T)\n",
    "print(sobelX)\n",
    "print()\n",
    "\n",
    "gx = cv2.filter2D(src, cv2.CV_32F, sobelX)\n",
    "\n",
    "kx, ky = cv2.getDerivKernels(0, 1, ksize=3)\n",
    "sobelY = ky.dot(kx.T)\n",
    "\n",
    "print(kx)\n",
    "print(ky)\n",
    "print(kx.T)\n",
    "print(sobelY)\n",
    "\n",
    "gy = cv2.filter2D(src, cv2.CV_32F, sobelY)\n",
    "\n",
    "mag = cv2.magnitude(gx, gy)\n",
    "ret, edge = cv2.threshold(mag, 100, 255, cv2.THRESH_BINARY)\n",
    "\n",
    "cv2.imshow('edge', edge)\n",
    "cv2.waitKey()\n",
    "cv2.destroyAllWindows()"
   ]
  },
  {
   "attachments": {},
   "cell_type": "markdown",
   "metadata": {},
   "source": [
    "### erode() 침식, dilate() 팽창, 모폴로지 연산\n",
    "\n",
    "* dilate -> erode / closing\n",
    "* erode -> dilate / opening\n",
    "* 침식은 어두운 부분의 노이즈를 제거하는 효과가 있고 팽창은 밝은 부분의 노이즈를 제거하는 효과가 있다"
   ]
  },
  {
   "cell_type": "code",
   "execution_count": 6,
   "metadata": {},
   "outputs": [],
   "source": [
    "import cv2\n",
    "import numpy as np\n",
    "\n",
    "src = cv2.imread('c:/data/morphology.jpg', cv2.IMREAD_GRAYSCALE)\n",
    "kernel = cv2.getStructuringElement(shape=cv2.MORPH_RECT, ksize=(3, 3))\n",
    "erode = cv2.erode(src, kernel, iterations=5) # iterations은 실행 횟수\n",
    "dilate = cv2.dilate(src, kernel, iterations=5) \n",
    "erode2 = cv2.erode(dilate, kernel, iterations=7)\n",
    "\n",
    "cv2.imshow('src', src)\n",
    "cv2.imshow('erode1', erode)\n",
    "cv2.imshow('dilate', dilate)\n",
    "cv2.imshow('erode2', erode2)\n",
    "cv2.waitKey()\n",
    "cv2.destroyAllWindows()\n",
    "\n"
   ]
  },
  {
   "attachments": {},
   "cell_type": "markdown",
   "metadata": {},
   "source": [
    "### morphologyEx()\n",
    "\n",
    "* gradient = dilate - erode (윤곽선 강조)\n",
    "* tophat = src - opening (밝은 부분 강조)\n",
    "* blackhat = src - closing (어두운 부분 강조)"
   ]
  },
  {
   "cell_type": "code",
   "execution_count": 22,
   "metadata": {},
   "outputs": [],
   "source": [
    "import cv2\n",
    "import numpy as np\n",
    "\n",
    "src = cv2.imread('c:/data/morphology.jpg', cv2.IMREAD_GRAYSCALE)\n",
    "kernel = cv2.getStructuringElement(shape=cv2.MORPH_RECT, ksize=(3, 3))\n",
    "\n",
    "closing = cv2.morphologyEx(src, cv2.MORPH_CLOSE, kernel, iterations=5)\n",
    "opening = cv2.morphologyEx(closing, cv2.MORPH_OPEN, kernel, iterations=5)\n",
    "\n",
    "# 그레디언트 = 팽창 - 침식\n",
    "# 윤곽선 강조\n",
    "gradient = cv2.morphologyEx(opening, cv2.MORPH_GRADIENT, kernel, iterations=5)\n",
    "\n",
    "# 탑햇 = 원본 - 열림\n",
    "# 밝은 부분을 강조\n",
    "tophat = cv2.morphologyEx(src, cv2.MORPH_TOPHAT, kernel, iterations=5)\n",
    "\n",
    "# 블랙햇 = 닫힘 - 원본\n",
    "# 어두운 부분을 강조\n",
    "blackhat = cv2.morphologyEx(src, cv2.MORPH_BLACKHAT, kernel, iterations=5)\n",
    "\n",
    "cv2.imshow('src', src)\n",
    "cv2.imshow('closing', closing)\n",
    "cv2.imshow('opening', opening)\n",
    "cv2.imshow('gradient', gradient)\n",
    "cv2.imshow('tophat', tophat)\n",
    "cv2.imshow('blackhat', blackhat)\n",
    "cv2.waitKey()\n",
    "cv2.destroyAllWindows()"
   ]
  },
  {
   "attachments": {},
   "cell_type": "markdown",
   "metadata": {},
   "source": [
    "### 템플릿 매칭"
   ]
  },
  {
   "cell_type": "code",
   "execution_count": 2,
   "metadata": {},
   "outputs": [
    {
     "name": "stdout",
     "output_type": "stream",
     "text": [
      "TM_SQDIFF_NORMED: 3.929205263375479e-07 (18, 20)\n",
      "TM_CCORR_NORMED: 1.0 (280, 146)\n",
      "TM_CCOEFF_NORMED: 1.0 (92, 280)\n"
     ]
    }
   ],
   "source": [
    "# 0612.py\n",
    "import cv2\n",
    "import numpy as np\n",
    "\n",
    "src   = cv2.imread('c:/data/alphabet.bmp', cv2.IMREAD_GRAYSCALE)\n",
    "tmp_A   = cv2.imread('c:/data/A.bmp', cv2.IMREAD_GRAYSCALE)\n",
    "tmp_S   = cv2.imread('c:/data/S.bmp', cv2.IMREAD_GRAYSCALE)\n",
    "tmp_b   = cv2.imread('c:/data/b.bmp', cv2.IMREAD_GRAYSCALE)\n",
    "dst  = cv2.cvtColor(src, cv2.COLOR_GRAY2BGR)  # 출력 표시 영상\n",
    "\n",
    "#1\n",
    "R1 = cv2.matchTemplate(src, tmp_A, cv2.TM_SQDIFF_NORMED)\n",
    "minVal, _, minLoc, _ = cv2.minMaxLoc(R1)\n",
    "print('TM_SQDIFF_NORMED:', minVal, minLoc)\n",
    "\n",
    "h, w = tmp_A.shape[:2]\n",
    "cv2.rectangle(dst, minLoc, (minLoc[0]+w, minLoc[1]+h), (255, 0, 0), 2)\n",
    "\n",
    "#2\n",
    "R2 = cv2.matchTemplate(src, tmp_S, cv2.TM_CCORR_NORMED)\n",
    "_, maxVal, _, maxLoc = cv2.minMaxLoc(R2)\n",
    "print('TM_CCORR_NORMED:', maxVal, maxLoc)\n",
    "h, w = tmp_S.shape[:2]\n",
    "cv2.rectangle(dst, maxLoc, (maxLoc[0]+w, maxLoc[1]+h), (0, 255, 0), 2)\n",
    "\n",
    "#3\n",
    "R3 = cv2.matchTemplate(src, tmp_b, cv2.TM_CCOEFF_NORMED)\n",
    "_, maxVal, _, maxLoc = cv2.minMaxLoc(R3)\n",
    "print('TM_CCOEFF_NORMED:', maxVal, maxLoc)\n",
    "h, w = tmp_b.shape[:2]\n",
    "cv2.rectangle(dst, maxLoc, (maxLoc[0]+w, maxLoc[1]+h), (0, 0, 255), 2)\n",
    "\n",
    "cv2.imshow('dst',  dst)\n",
    "cv2.waitKey()\n",
    "cv2.destroyAllWindows()\n"
   ]
  }
 ],
 "metadata": {
  "kernelspec": {
   "display_name": "Python 3",
   "language": "python",
   "name": "python3"
  },
  "language_info": {
   "codemirror_mode": {
    "name": "ipython",
    "version": 3
   },
   "file_extension": ".py",
   "mimetype": "text/x-python",
   "name": "python",
   "nbconvert_exporter": "python",
   "pygments_lexer": "ipython3",
   "version": "3.9.4"
  },
  "orig_nbformat": 4
 },
 "nbformat": 4,
 "nbformat_minor": 2
}
