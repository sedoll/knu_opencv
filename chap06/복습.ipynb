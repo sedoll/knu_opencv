{
 "cells": [
  {
   "attachments": {},
   "cell_type": "markdown",
   "metadata": {},
   "source": [
    "### 라플라시안과 제로크로싱 비교"
   ]
  },
  {
   "cell_type": "code",
   "execution_count": 4,
   "metadata": {},
   "outputs": [],
   "source": [
    "import cv2\n",
    "import numpy as np\n",
    "\n",
    "src = cv2.imread('c:/data/lena.jpg', cv2.IMREAD_GRAYSCALE)\n",
    "blur = cv2.GaussianBlur(src, ksize=(7, 7), sigmaX=0.0)\n",
    "lap = cv2.Laplacian(blur, cv2.CV_32F)\n",
    "\n",
    "cv2.imshow('src', src)\n",
    "\n",
    "ret, edge = cv2.threshold(np.abs(lap), 10, 255, cv2.THRESH_BINARY)\n",
    "edge = edge.astype(np.uint8)\n",
    "cv2.imshow('edge', edge)\n",
    "\n",
    "def SGN(x):\n",
    "    if x >= 0:\n",
    "        sign = 1\n",
    "    else:\n",
    "        sign = -1\n",
    "    return sign\n",
    "\n",
    "def zeroCrossing(lap):\n",
    "    height, width = lap.shape\n",
    "    Z = np.zeros(lap.shape, dtype=np.uint8)\n",
    "    for y in range(1, height - 1):\n",
    "        for x in range(1, width - 1):\n",
    "            neighbors =[lap[y-1, x], lap[y+1, x],\n",
    "                        lap[y, x-1], lap[y, x+1],\n",
    "                        lap[y-1, x-1], lap[y-1, x+1],\n",
    "                        lap[y+1, x-1], lap[y+1, x+1]]\n",
    "            mValue = min(neighbors)\n",
    "            if SGN(lap[y, x]) != SGN(mValue):\n",
    "                Z[y, x] = 255\n",
    "    return Z\n",
    "\n",
    "edgeZ = zeroCrossing(lap)\n",
    "cv2.imshow('Zero Crossing', 255 - edgeZ)\n",
    "cv2.waitKey()\n",
    "cv2.destroyAllWindows()"
   ]
  },
  {
   "cell_type": "code",
   "execution_count": null,
   "metadata": {},
   "outputs": [],
   "source": []
  },
  {
   "cell_type": "code",
   "execution_count": null,
   "metadata": {},
   "outputs": [],
   "source": []
  }
 ],
 "metadata": {
  "kernelspec": {
   "display_name": "Python 3",
   "language": "python",
   "name": "python3"
  },
  "language_info": {
   "codemirror_mode": {
    "name": "ipython",
    "version": 3
   },
   "file_extension": ".py",
   "mimetype": "text/x-python",
   "name": "python",
   "nbconvert_exporter": "python",
   "pygments_lexer": "ipython3",
   "version": "3.10.6"
  },
  "orig_nbformat": 4
 },
 "nbformat": 4,
 "nbformat_minor": 2
}
