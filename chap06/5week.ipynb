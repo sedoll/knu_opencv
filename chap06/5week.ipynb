{
 "cells": [
  {
   "attachments": {},
   "cell_type": "markdown",
   "metadata": {},
   "source": [
    "### OpenCV 5 주차"
   ]
  },
  {
   "attachments": {},
   "cell_type": "markdown",
   "metadata": {},
   "source": [
    "### 6.2 미디안, 블러, 가우시안"
   ]
  },
  {
   "cell_type": "code",
   "execution_count": null,
   "metadata": {},
   "outputs": [],
   "source": []
  },
  {
   "attachments": {},
   "cell_type": "markdown",
   "metadata": {},
   "source": [
    "### 6.3 sobel 필터"
   ]
  },
  {
   "cell_type": "code",
   "execution_count": 1,
   "metadata": {},
   "outputs": [
    {
     "name": "stdout",
     "output_type": "stream",
     "text": [
      "mag: 0.0 713.2684936523438 (0, 0) (415, 148)\n"
     ]
    }
   ],
   "source": [
    "# 0603.py\n",
    "import cv2\n",
    "import numpy as np\n",
    "\n",
    "src = cv2.imread('c:/data/lena.jpg', cv2.IMREAD_GRAYSCALE)\n",
    "#1\n",
    "gx = cv2.Sobel(src, cv2.CV_32F, 1, 0, ksize = 3)\n",
    "gy = cv2.Sobel(src, cv2.CV_32F, 0, 1, ksize = 3)\n",
    "\n",
    "#2\n",
    "dstX = cv2.sqrt(np.abs(gx))\n",
    "dstX = cv2.normalize(dstX, None, 0, 255, cv2.NORM_MINMAX, dtype=cv2.CV_8U)\n",
    "\n",
    "#3\n",
    "dstY = cv2.sqrt(np.abs(gy))\n",
    "dstY = cv2.normalize(dstY, None, 0, 255, cv2.NORM_MINMAX, dtype=cv2.CV_8U)\n",
    "\n",
    "#4\n",
    "mag   = cv2.magnitude(gx, gy)\n",
    "minVal, maxVal, minLoc, maxLoc = cv2.minMaxLoc(mag)\n",
    "print('mag:', minVal, maxVal, minLoc, maxLoc)\n",
    "\n",
    "dstM = cv2.normalize(mag, None, 0, 255, cv2.NORM_MINMAX, dtype=cv2.CV_8U)\n",
    "cv2.imshow('src',  src)\n",
    "# cv2.imshow('dstX',  dstX)    \n",
    "# cv2.imshow('dstY',  dstY)\n",
    "cv2.imshow('dstM',  dstM)\n",
    "cv2.imshow('src_M', cv2.add(src, dstM))\n",
    "cv2.waitKey()\n",
    "cv2.destroyAllWindows()\n"
   ]
  },
  {
   "attachments": {},
   "cell_type": "markdown",
   "metadata": {},
   "source": [
    "### 6.4 sobel 필터2, 에지 그래디언트"
   ]
  },
  {
   "cell_type": "code",
   "execution_count": 5,
   "metadata": {},
   "outputs": [
    {
     "name": "stdout",
     "output_type": "stream",
     "text": [
      "angle: 0.0 359.8861083984375 (0, 0) (357, 120)\n"
     ]
    },
    {
     "data": {
      "image/png": "[encoded data removed]",
      "text/plain": [
       "<Figure size 432x288 with 1 Axes>"
      ]
     },
     "metadata": {
      "needs_background": "light"
     },
     "output_type": "display_data"
    }
   ],
   "source": [
    "# 0604.py\n",
    "import cv2\n",
    "import numpy as np\n",
    "from   matplotlib import pyplot as plt\n",
    "\n",
    "src = cv2.imread('c:/data/rect.jpg', cv2.IMREAD_GRAYSCALE)\n",
    "##src = cv2.imread('./data/line.png', cv2.IMREAD_GRAYSCALE)\n",
    "cv2.imshow('src',  src)\n",
    "\n",
    "#1\n",
    "gx = cv2.Sobel(src, cv2.CV_32F, 1, 0, ksize = 3)\n",
    "gy = cv2.Sobel(src, cv2.CV_32F, 0, 1, ksize = 3)\n",
    "\n",
    "mag, angle = cv2.cartToPolar(gx, gy, angleInDegrees=True)\n",
    "minVal, maxVal, minLoc, maxLoc = cv2.minMaxLoc(angle)\n",
    "print('angle:', minVal, maxVal, minLoc, maxLoc)\n",
    "\n",
    "#2\n",
    "ret, edge = cv2.threshold(mag, 100, 255, cv2.THRESH_BINARY)\n",
    "edge = edge.astype(np.uint8)\n",
    "cv2.imshow('edge',  edge)\n",
    "\n",
    "#3\n",
    "height, width = mag.shape[:2]\n",
    "angleM = np.full((height,width, 3), (255, 255, 255), dtype= np.uint8)\n",
    "for y in range(height):\n",
    "    for x in range(width):\n",
    "        if edge[y, x] != 0: # if mag[y, x] > 100: # edge\n",
    "            if angle[y, x] ==   0:\n",
    "                angleM[y, x] =  (0, 0, 255)   # red\n",
    "            elif angle[y, x] == 90:\n",
    "                 angleM[y, x] = (0, 255, 0)   # green\n",
    "            elif angle[y, x] ==180:\n",
    "                 angleM[y, x] = (255, 0, 0)   # blue                 \n",
    "            elif angle[y, x] ==270:\n",
    "                 angleM[y, x] = (0, 255, 255) # yellow\n",
    "            else:\n",
    "                angleM[y, x] =  (128, 128, 128) # gray                \n",
    "cv2.imshow('angleM',  angleM)\n",
    "\n",
    "#4\n",
    "hist = cv2.calcHist(images=[angle], channels=[0], mask=edge,\n",
    "                    histSize=[360], ranges=[0, 360])\n",
    "\n",
    "hist = hist.flatten()\n",
    "#plt.title('hist: binX = np.arange(360)')\n",
    "plt.plot(hist, color='r')\n",
    "binX = np.arange(360)\n",
    "plt.bar(binX, hist, width=1, color='b')\n",
    "plt.show()\n",
    "\n",
    "cv2.waitKey()\n",
    "cv2.destroyAllWindows()\n"
   ]
  },
  {
   "attachments": {},
   "cell_type": "markdown",
   "metadata": {},
   "source": [
    "### 6.5 라플라시안 필터"
   ]
  },
  {
   "cell_type": "code",
   "execution_count": 1,
   "metadata": {},
   "outputs": [
    {
     "name": "stdout",
     "output_type": "stream",
     "text": [
      "lap: -239.0 189.0 (404, 181) (221, 287)\n",
      "lap2: -35.0 30.0 (180, 435) (367, 449)\n"
     ]
    }
   ],
   "source": [
    "import cv2\n",
    "import numpy as np\n",
    "\n",
    "#1\n",
    "src = cv2.imread('c:/data/lena.jpg', cv2.IMREAD_GRAYSCALE)\n",
    "blur= cv2.GaussianBlur(src, ksize=(7, 7), sigmaX=0.0)\n",
    "cv2.imshow('src',  src)\n",
    "# cv2.imshow('blur', blur)\n",
    "\n",
    "#2\n",
    "lap  = cv2.Laplacian(src, cv2.CV_32F)\n",
    "minVal, maxVal, minLoc, maxLoc = cv2.minMaxLoc(lap)\n",
    "print('lap:', minVal, maxVal, minLoc, maxLoc)\n",
    "dst = cv2.convertScaleAbs(lap)\n",
    "dst = cv2.normalize(dst, None, 0, 255, cv2.NORM_MINMAX)\n",
    "# cv2.imshow('lap',  lap)\n",
    "# cv2.imshow('dst',  dst)\n",
    "\n",
    "#3\n",
    "lap2 = cv2.Laplacian(blur, cv2.CV_32F)\n",
    "minVal, maxVal, minLoc, maxLoc = cv2.minMaxLoc(lap2)\n",
    "print('lap2:', minVal, maxVal, minLoc, maxLoc)\n",
    "dst2 = cv2.convertScaleAbs(lap2)\n",
    "dst2 = cv2.normalize(dst2, None, 0, 255, cv2.NORM_MINMAX)\n",
    "\n",
    "cv2.imshow('lap2',  lap2)\n",
    "cv2.imshow('dst2',  dst2)\n",
    "cv2.imshow('result', cv2.subtract(src, dst2)) # 영상 덧셈\n",
    "\n",
    "cv2.waitKey()    \n",
    "cv2.destroyAllWindows()"
   ]
  },
  {
   "attachments": {},
   "cell_type": "markdown",
   "metadata": {},
   "source": [
    "### 6.6 라플라시안 2차 미분"
   ]
  },
  {
   "cell_type": "code",
   "execution_count": 4,
   "metadata": {},
   "outputs": [
    {
     "ename": "error",
     "evalue": "OpenCV(4.7.0) :-1: error: (-5:Bad argument) in function 'add'\n> Overload resolution failed:\n>  - Argument 'dtype' is required to be an integer\n>  - Argument 'dtype' is required to be an integer\n",
     "output_type": "error",
     "traceback": [
      "\u001b[1;31m---------------------------------------------------------------------------\u001b[0m",
      "\u001b[1;31merror\u001b[0m                                     Traceback (most recent call last)",
      "\u001b[1;32mc:\\Users\\sehoon\\Desktop\\git\\knu_opencv\\chap06\\5week.ipynb 셀 11\u001b[0m in \u001b[0;36m<cell line: 38>\u001b[1;34m()\u001b[0m\n\u001b[0;32m     <a href='vscode-notebook-cell:/c%3A/Users/sehoon/Desktop/git/knu_opencv/chap06/5week.ipynb#X13sZmlsZQ%3D%3D?line=35'>36</a>\u001b[0m cv2\u001b[39m.\u001b[39mimshow(\u001b[39m'\u001b[39m\u001b[39msrc\u001b[39m\u001b[39m'\u001b[39m, src)\n\u001b[0;32m     <a href='vscode-notebook-cell:/c%3A/Users/sehoon/Desktop/git/knu_opencv/chap06/5week.ipynb#X13sZmlsZQ%3D%3D?line=36'>37</a>\u001b[0m cv2\u001b[39m.\u001b[39mimshow(\u001b[39m'\u001b[39m\u001b[39mZero Crossing\u001b[39m\u001b[39m'\u001b[39m,  edgeZ)\n\u001b[1;32m---> <a href='vscode-notebook-cell:/c%3A/Users/sehoon/Desktop/git/knu_opencv/chap06/5week.ipynb#X13sZmlsZQ%3D%3D?line=37'>38</a>\u001b[0m cv2\u001b[39m.\u001b[39mimshow(\u001b[39m'\u001b[39m\u001b[39mresult\u001b[39m\u001b[39m'\u001b[39m, cv2\u001b[39m.\u001b[39;49madd(src, edgeZ, dtype\u001b[39m=\u001b[39;49mnp\u001b[39m.\u001b[39;49muint8))\n\u001b[0;32m     <a href='vscode-notebook-cell:/c%3A/Users/sehoon/Desktop/git/knu_opencv/chap06/5week.ipynb#X13sZmlsZQ%3D%3D?line=38'>39</a>\u001b[0m cv2\u001b[39m.\u001b[39mwaitKey()    \n\u001b[0;32m     <a href='vscode-notebook-cell:/c%3A/Users/sehoon/Desktop/git/knu_opencv/chap06/5week.ipynb#X13sZmlsZQ%3D%3D?line=39'>40</a>\u001b[0m cv2\u001b[39m.\u001b[39mdestroyAllWindows()\n",
      "\u001b[1;31merror\u001b[0m: OpenCV(4.7.0) :-1: error: (-5:Bad argument) in function 'add'\n> Overload resolution failed:\n>  - Argument 'dtype' is required to be an integer\n>  - Argument 'dtype' is required to be an integer\n"
     ]
    },
    {
     "ename": "",
     "evalue": "",
     "output_type": "error",
     "traceback": [
      "\u001b[1;31m현재 셀 또는 이전 셀에서 코드를 실행하는 동안 Kernel이 충돌했습니다. 셀의 코드를 검토하여 오류의 가능한 원인을 식별하세요. 자세한 내용을 보려면 <a href='https://aka.ms/vscodeJupyterKernelCrash'> 여기 </a> 를 클릭하세요. 자세한 내용은 Jupyter <a href='command:jupyter.viewOutput'>로그</a>를 참조하세요."
     ]
    }
   ],
   "source": [
    "# 0606.py\n",
    "import cv2\n",
    "import numpy as np\n",
    "\n",
    "#1\n",
    "#src  = cv2.imread('./data/A.bmp', cv2.IMREAD_GRAYSCALE)\n",
    "src  = cv2.imread('c:/data/test_bone.png', cv2.IMREAD_GRAYSCALE)\n",
    "#src  = cv2.imread('./data/lena.jpg', cv2.IMREAD_GRAYSCALE)\n",
    "blur = cv2.GaussianBlur(src, ksize=(7, 7), sigmaX=0.0)\n",
    "lap = cv2.Laplacian(blur, cv2.CV_32F,3)\n",
    "\n",
    "##ret, edge = cv2.threshold(np.abs(lap), 10, 255, cv2.THRESH_BINARY)\n",
    "##edge = edge.astype(np.uint8)\n",
    "##cv2.imshow('edge',  edge)\n",
    "\n",
    "#2\n",
    "def SGN(x):\n",
    "    if x >= 0:\n",
    "        sign = 1\n",
    "    else:\n",
    "        sign = -1\n",
    "    return sign\n",
    "\n",
    "def zeroCrossing(lap):\n",
    "    height, width = lap.shape\n",
    "    Z = np.zeros(lap.shape, dtype=np.uint8)    \n",
    "    for y in range(1, height-1):\n",
    "        for x in range(1,width-1):\n",
    "            neighbors=[lap[y-1,x], lap[y+1,x], lap[y,x-1], lap[y,x+1],\n",
    "                       lap[y-1,x-1], lap[y-1,x+1], lap[y+1,x-1], lap[y+1,x+1]]                       \n",
    "            mValue= min(neighbors)\n",
    "            if SGN(lap[y,x]) != SGN(mValue):\n",
    "                Z[y, x] = 255\n",
    "    return Z\n",
    "edgeZ = zeroCrossing(lap)\n",
    "cv2.imshow('src', src)\n",
    "cv2.imshow('Zero Crossing',  edgeZ)\n",
    "cv2.imshow('result', cv2.add(src, edgeZ, dtype=np.uint8))\n",
    "cv2.waitKey()    \n",
    "cv2.destroyAllWindows()"
   ]
  },
  {
   "attachments": {},
   "cell_type": "markdown",
   "metadata": {},
   "source": [
    "### 6.7 "
   ]
  },
  {
   "cell_type": "code",
   "execution_count": null,
   "metadata": {},
   "outputs": [],
   "source": []
  },
  {
   "attachments": {},
   "cell_type": "markdown",
   "metadata": {},
   "source": [
    "### 6.8 LoG 필터링"
   ]
  },
  {
   "cell_type": "code",
   "execution_count": 1,
   "metadata": {},
   "outputs": [
    {
     "name": "stdout",
     "output_type": "stream",
     "text": [
      "sigma= 1.4\n"
     ]
    }
   ],
   "source": [
    "# 0608.py\n",
    "import cv2\n",
    "import numpy as np\n",
    "\n",
    "src  = cv2.imread('c:/data/lena.jpg', cv2.IMREAD_GRAYSCALE)\n",
    "\n",
    "#1\n",
    "def logFilter(ksize=7):\n",
    "    k2 = ksize//2\n",
    "    sigma = 0.3*(k2-1) + 0.8\n",
    "    print('sigma=', sigma)\n",
    "    LoG = np.zeros((ksize, ksize), dtype=np.float32)\n",
    "    for y in range(-k2, k2+1):\n",
    "        for x in range(-k2, k2+1):\n",
    "            g = -(x*x+y*y)/(2.0*sigma**2.0)\n",
    "            LoG[y+k2, x+k2] = -(1.0+g)*np.exp(g)/(np.pi*sigma**4.0)\n",
    "    return LoG\n",
    "\n",
    "#2\n",
    "kernel = logFilter() #7, 15, 31, 51\n",
    "LoG = cv2.filter2D(src, cv2.CV_32F, kernel)\n",
    "cv2.imshow('LoG',  LoG)\n",
    "\n",
    "#3\n",
    "def zeroCrossing2(lap, thresh=0.01):\n",
    "    height, width = lap.shape\n",
    "    Z = np.zeros(lap.shape, dtype=np.uint8)    \n",
    "    for y in range(1, height-1):\n",
    "        for x in range(1,width-1):\n",
    "            neighbors=[lap[y-1,x],   lap[y+1,x],   lap[y,x-1],   lap[y,x+1],\n",
    "                       lap[y-1,x-1], lap[y-1,x+1], lap[y+1,x-1], lap[y+1,x+1]]\n",
    "            pos = 0\n",
    "            neg = 0\n",
    "            for value in neighbors:\n",
    "                if value > thresh:\n",
    "                    pos += 1\n",
    "                if value < -thresh:  # value < thresh\n",
    "                    neg += 1\n",
    "            if pos > 0 and neg > 0:\n",
    "                Z[y, x] = 255                        \n",
    "    return Z\n",
    "edgeZ = zeroCrossing2(LoG)\n",
    "cv2.imshow('Zero Crossing2',  edgeZ)\n",
    "cv2.waitKey()    \n",
    "cv2.destroyAllWindows()\n"
   ]
  }
 ],
 "metadata": {
  "kernelspec": {
   "display_name": "Python 3",
   "language": "python",
   "name": "python3"
  },
  "language_info": {
   "codemirror_mode": {
    "name": "ipython",
    "version": 3
   },
   "file_extension": ".py",
   "mimetype": "text/x-python",
   "name": "python",
   "nbconvert_exporter": "python",
   "pygments_lexer": "ipython3",
   "version": "3.10.6"
  },
  "orig_nbformat": 4,
  "vscode": {
   "interpreter": {
    "hash": "52634da84371cba311ea128a5ea7cdc41ff074b781779e754b270ff9f8153cee"
   }
  }
 },
 "nbformat": 4,
 "nbformat_minor": 2
}
